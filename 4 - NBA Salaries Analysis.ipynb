{
 "cells": [
  {
   "cell_type": "markdown",
   "metadata": {},
   "source": [
    "![rmotr](https://i.imgur.com/jiPp4hj.png)\n",
    "<hr style=\"margin-bottom: 40px;\">\n",
    "\n",
    "<img src=\"https://user-images.githubusercontent.com/7065401/39119320-cfd265fe-46eb-11e8-8b3f-49f2e67cf93f.jpg\"\n",
    "    style=\"width:300px; float: right; margin: 0 40px 40px 40px;\"></img>\n",
    "\n",
    "# Sorting, Binning and Categories practice\n",
    "\n",
    "We'll use a Dataset from NBA players and salaries to practice our the skills of cutting, binning, sorting and categorical data handling.\n",
    "\n",
    "The dataset can be found in `data/nba_salaries_positions_2017.csv` ([source data.world](https://data.world/datadavis/nba-salaries)). And our objective is to understand a little bit better how salaries in the NBA work."
   ]
  },
  {
   "cell_type": "markdown",
   "metadata": {},
   "source": [
    "![separator2](https://i.imgur.com/4gX5WFr.png)\n",
    "\n",
    "## Hands on! "
   ]
  },
  {
   "cell_type": "code",
   "execution_count": 1,
   "metadata": {},
   "outputs": [],
   "source": [
    "import pandas as pd\n",
    "import numpy as np\n",
    "import matplotlib.pyplot as plt\n",
    "import seaborn as sns\n",
    "\n",
    "sns.set(palette=\"muted\", color_codes=True)\n",
    "\n",
    "%matplotlib inline"
   ]
  },
  {
   "cell_type": "markdown",
   "metadata": {},
   "source": [
    "A nice trick to display floats nicely:"
   ]
  },
  {
   "cell_type": "code",
   "execution_count": 2,
   "metadata": {},
   "outputs": [],
   "source": [
    "pd.options.display.float_format = '{:,.2f}'.format"
   ]
  },
  {
   "cell_type": "markdown",
   "metadata": {},
   "source": [
    "We import the Dataset, the first column (player's name) will be the index:"
   ]
  },
  {
   "cell_type": "code",
   "execution_count": 3,
   "metadata": {},
   "outputs": [],
   "source": [
    "df = pd.read_csv('data/nba_salaries_positions_2017.csv', index_col=0)"
   ]
  },
  {
   "cell_type": "code",
   "execution_count": 4,
   "metadata": {
    "scrolled": true
   },
   "outputs": [
    {
     "data": {
      "text/html": [
       "<div>\n",
       "<style scoped>\n",
       "    .dataframe tbody tr th:only-of-type {\n",
       "        vertical-align: middle;\n",
       "    }\n",
       "\n",
       "    .dataframe tbody tr th {\n",
       "        vertical-align: top;\n",
       "    }\n",
       "\n",
       "    .dataframe thead th {\n",
       "        text-align: right;\n",
       "    }\n",
       "</style>\n",
       "<table border=\"1\" class=\"dataframe\">\n",
       "  <thead>\n",
       "    <tr style=\"text-align: right;\">\n",
       "      <th></th>\n",
       "      <th>salary</th>\n",
       "      <th>season_start</th>\n",
       "      <th>season_end</th>\n",
       "      <th>team</th>\n",
       "      <th>team_name</th>\n",
       "      <th>Pos</th>\n",
       "      <th>Age</th>\n",
       "    </tr>\n",
       "    <tr>\n",
       "      <th>player</th>\n",
       "      <th></th>\n",
       "      <th></th>\n",
       "      <th></th>\n",
       "      <th></th>\n",
       "      <th></th>\n",
       "      <th></th>\n",
       "      <th></th>\n",
       "    </tr>\n",
       "  </thead>\n",
       "  <tbody>\n",
       "    <tr>\n",
       "      <th>Kent Bazemore</th>\n",
       "      <td>16910113</td>\n",
       "      <td>2017</td>\n",
       "      <td>2018</td>\n",
       "      <td>ATL</td>\n",
       "      <td>Atlanta Hawks</td>\n",
       "      <td>SF</td>\n",
       "      <td>27.00</td>\n",
       "    </tr>\n",
       "    <tr>\n",
       "      <th>Dennis Schroder</th>\n",
       "      <td>15500000</td>\n",
       "      <td>2017</td>\n",
       "      <td>2018</td>\n",
       "      <td>ATL</td>\n",
       "      <td>Atlanta Hawks</td>\n",
       "      <td>PG</td>\n",
       "      <td>23.00</td>\n",
       "    </tr>\n",
       "    <tr>\n",
       "      <th>Miles Plumlee</th>\n",
       "      <td>12500000</td>\n",
       "      <td>2017</td>\n",
       "      <td>2018</td>\n",
       "      <td>ATL</td>\n",
       "      <td>Atlanta Hawks</td>\n",
       "      <td>C</td>\n",
       "      <td>28.00</td>\n",
       "    </tr>\n",
       "    <tr>\n",
       "      <th>Jamal Crawford</th>\n",
       "      <td>10942762</td>\n",
       "      <td>2017</td>\n",
       "      <td>2018</td>\n",
       "      <td>ATL</td>\n",
       "      <td>Atlanta Hawks</td>\n",
       "      <td>SG</td>\n",
       "      <td>36.00</td>\n",
       "    </tr>\n",
       "    <tr>\n",
       "      <th>Marco Belinelli</th>\n",
       "      <td>6606060</td>\n",
       "      <td>2017</td>\n",
       "      <td>2018</td>\n",
       "      <td>ATL</td>\n",
       "      <td>Atlanta Hawks</td>\n",
       "      <td>SG</td>\n",
       "      <td>30.00</td>\n",
       "    </tr>\n",
       "  </tbody>\n",
       "</table>\n",
       "</div>"
      ],
      "text/plain": [
       "                   salary  season_start  season_end team      team_name Pos  \\\n",
       "player                                                                        \n",
       "Kent Bazemore    16910113          2017        2018  ATL  Atlanta Hawks  SF   \n",
       "Dennis Schroder  15500000          2017        2018  ATL  Atlanta Hawks  PG   \n",
       "Miles Plumlee    12500000          2017        2018  ATL  Atlanta Hawks   C   \n",
       "Jamal Crawford   10942762          2017        2018  ATL  Atlanta Hawks  SG   \n",
       "Marco Belinelli   6606060          2017        2018  ATL  Atlanta Hawks  SG   \n",
       "\n",
       "                  Age  \n",
       "player                 \n",
       "Kent Bazemore   27.00  \n",
       "Dennis Schroder 23.00  \n",
       "Miles Plumlee   28.00  \n",
       "Jamal Crawford  36.00  \n",
       "Marco Belinelli 30.00  "
      ]
     },
     "execution_count": 4,
     "metadata": {},
     "output_type": "execute_result"
    }
   ],
   "source": [
    "df.head()"
   ]
  },
  {
   "cell_type": "code",
   "execution_count": 5,
   "metadata": {
    "scrolled": true
   },
   "outputs": [
    {
     "data": {
      "text/html": [
       "<div>\n",
       "<style scoped>\n",
       "    .dataframe tbody tr th:only-of-type {\n",
       "        vertical-align: middle;\n",
       "    }\n",
       "\n",
       "    .dataframe tbody tr th {\n",
       "        vertical-align: top;\n",
       "    }\n",
       "\n",
       "    .dataframe thead th {\n",
       "        text-align: right;\n",
       "    }\n",
       "</style>\n",
       "<table border=\"1\" class=\"dataframe\">\n",
       "  <thead>\n",
       "    <tr style=\"text-align: right;\">\n",
       "      <th></th>\n",
       "      <th>salary</th>\n",
       "      <th>season_start</th>\n",
       "      <th>season_end</th>\n",
       "      <th>Age</th>\n",
       "    </tr>\n",
       "  </thead>\n",
       "  <tbody>\n",
       "    <tr>\n",
       "      <th>count</th>\n",
       "      <td>500.00</td>\n",
       "      <td>500.00</td>\n",
       "      <td>500.00</td>\n",
       "      <td>400.00</td>\n",
       "    </tr>\n",
       "    <tr>\n",
       "      <th>mean</th>\n",
       "      <td>6,640,380.41</td>\n",
       "      <td>2,017.00</td>\n",
       "      <td>2,018.00</td>\n",
       "      <td>26.16</td>\n",
       "    </tr>\n",
       "    <tr>\n",
       "      <th>std</th>\n",
       "      <td>7,343,168.83</td>\n",
       "      <td>0.00</td>\n",
       "      <td>0.00</td>\n",
       "      <td>4.29</td>\n",
       "    </tr>\n",
       "    <tr>\n",
       "      <th>min</th>\n",
       "      <td>17,224.00</td>\n",
       "      <td>2,017.00</td>\n",
       "      <td>2,018.00</td>\n",
       "      <td>19.00</td>\n",
       "    </tr>\n",
       "    <tr>\n",
       "      <th>25%</th>\n",
       "      <td>1,471,382.00</td>\n",
       "      <td>2,017.00</td>\n",
       "      <td>2,018.00</td>\n",
       "      <td>23.00</td>\n",
       "    </tr>\n",
       "    <tr>\n",
       "      <th>50%</th>\n",
       "      <td>3,125,365.50</td>\n",
       "      <td>2,017.00</td>\n",
       "      <td>2,018.00</td>\n",
       "      <td>26.00</td>\n",
       "    </tr>\n",
       "    <tr>\n",
       "      <th>75%</th>\n",
       "      <td>10,000,000.00</td>\n",
       "      <td>2,017.00</td>\n",
       "      <td>2,018.00</td>\n",
       "      <td>29.00</td>\n",
       "    </tr>\n",
       "    <tr>\n",
       "      <th>max</th>\n",
       "      <td>34,682,550.00</td>\n",
       "      <td>2,017.00</td>\n",
       "      <td>2,018.00</td>\n",
       "      <td>40.00</td>\n",
       "    </tr>\n",
       "  </tbody>\n",
       "</table>\n",
       "</div>"
      ],
      "text/plain": [
       "             salary  season_start  season_end    Age\n",
       "count        500.00        500.00      500.00 400.00\n",
       "mean   6,640,380.41      2,017.00    2,018.00  26.16\n",
       "std    7,343,168.83          0.00        0.00   4.29\n",
       "min       17,224.00      2,017.00    2,018.00  19.00\n",
       "25%    1,471,382.00      2,017.00    2,018.00  23.00\n",
       "50%    3,125,365.50      2,017.00    2,018.00  26.00\n",
       "75%   10,000,000.00      2,017.00    2,018.00  29.00\n",
       "max   34,682,550.00      2,017.00    2,018.00  40.00"
      ]
     },
     "execution_count": 5,
     "metadata": {},
     "output_type": "execute_result"
    }
   ],
   "source": [
    "df.describe()"
   ]
  },
  {
   "cell_type": "markdown",
   "metadata": {},
   "source": [
    "Seems like there's a wide range of salaries, the less paid player makes `$17,224` while the highest paid makes `$34,682,550`."
   ]
  },
  {
   "cell_type": "code",
   "execution_count": 6,
   "metadata": {},
   "outputs": [],
   "source": [
    "min_salary, max_salary = df['salary'].describe()[['min', 'max']]"
   ]
  },
  {
   "cell_type": "code",
   "execution_count": 7,
   "metadata": {},
   "outputs": [
    {
     "data": {
      "text/plain": [
       "(17224.0, 34682550.0)"
      ]
     },
     "execution_count": 7,
     "metadata": {},
     "output_type": "execute_result"
    }
   ],
   "source": [
    "min_salary, max_salary"
   ]
  },
  {
   "cell_type": "markdown",
   "metadata": {},
   "source": [
    "Let's see how they're are distributed:"
   ]
  },
  {
   "cell_type": "code",
   "execution_count": 8,
   "metadata": {},
   "outputs": [],
   "source": [
    "salaries = df['salary']"
   ]
  },
  {
   "cell_type": "code",
   "execution_count": 11,
   "metadata": {
    "scrolled": false
   },
   "outputs": [
    {
     "name": "stderr",
     "output_type": "stream",
     "text": [
      "/usr/local/lib/python3.6/site-packages/matplotlib/axes/_axes.py:6462: UserWarning: The 'normed' kwarg is deprecated, and has been replaced by the 'density' kwarg.\n",
      "  warnings.warn(\"The 'normed' kwarg is deprecated, and has been \"\n"
     ]
    },
    {
     "data": {
      "image/png": "[encoded data removed]",
      "text/plain": [
       "<Figure size 864x432 with 2 Axes>"
      ]
     },
     "metadata": {
      "needs_background": "light"
     },
     "output_type": "display_data"
    }
   ],
   "source": [
    "f, axes = plt.subplots(1, 2, figsize=(12, 6), sharex=True)\n",
    "\n",
    "[ax.get_xaxis().get_major_formatter().set_scientific(False) for ax in axes.ravel()]\n",
    "\n",
    "sns.despine(left=True)\n",
    "\n",
    "sns.distplot(salaries, kde=False, color=\"g\", ax=axes[0])\n",
    "sns.distplot(salaries, hist=False, rug=True, color=\"m\", ax=axes[1])\n",
    "\n",
    "plt.setp(axes, yticks=[])\n",
    "\n",
    "[ax.axvline(salaries.median(), color='blue') for ax in axes]\n",
    "[ax.axvline(salaries.mean(), color='red') for ax in axes]\n",
    "\n",
    "plt.tight_layout()"
   ]
  },
  {
   "cell_type": "markdown",
   "metadata": {},
   "source": [
    "Seems like there are many folks on the left side of the distribution, and a very few that make a ton of money. Let's explore the cumulative sums:"
   ]
  },
  {
   "cell_type": "code",
   "execution_count": 12,
   "metadata": {
    "scrolled": false
   },
   "outputs": [
    {
     "name": "stderr",
     "output_type": "stream",
     "text": [
      "/usr/local/lib/python3.6/site-packages/matplotlib/axes/_axes.py:6462: UserWarning: The 'normed' kwarg is deprecated, and has been replaced by the 'density' kwarg.\n",
      "  warnings.warn(\"The 'normed' kwarg is deprecated, and has been \"\n"
     ]
    },
    {
     "data": {
      "image/png": "[encoded data removed]",
      "text/plain": [
       "<Figure size 864x432 with 1 Axes>"
      ]
     },
     "metadata": {
      "needs_background": "light"
     },
     "output_type": "display_data"
    }
   ],
   "source": [
    "f, ax = plt.subplots(figsize=(12, 6), sharex=True)\n",
    "\n",
    "ax.get_xaxis().get_major_formatter().set_scientific(False)\n",
    "\n",
    "sns.despine(left=True)\n",
    "\n",
    "sns.distplot(salaries, kde=False, color=\"g\", ax=ax, hist_kws={'cumulative': True}, kde_kws={'cumulative': True})\n",
    "plt.setp(axes, yticks=[])\n",
    "ax.axhline(y=250)\n",
    "\n",
    "plt.tight_layout()"
   ]
  },
  {
   "cell_type": "markdown",
   "metadata": {},
   "source": [
    "To understand better how salaries are distributed, we can use a boxplot. Boxplots allows us to identify outliers:"
   ]
  },
  {
   "cell_type": "code",
   "execution_count": 13,
   "metadata": {
    "scrolled": false
   },
   "outputs": [
    {
     "data": {
      "image/png": "[encoded data removed]",
      "text/plain": [
       "<Figure size 864x432 with 1 Axes>"
      ]
     },
     "metadata": {
      "needs_background": "light"
     },
     "output_type": "display_data"
    }
   ],
   "source": [
    "fig, ax = plt.subplots(figsize=(12, 6))\n",
    "\n",
    "sns.boxplot(salaries, orient='h', ax=ax, palette=\"Set3\", linewidth=2.5)\n",
    "\n",
    "fig.tight_layout()"
   ]
  },
  {
   "cell_type": "markdown",
   "metadata": {},
   "source": [
    "Boxplot is using the [Interquartile Range (IQR)](https://en.wikipedia.org/wiki/Interquartile_range) to place the whiskers (both left and right) and the quartiles to draw the box. The line you see inside the box represents the median (or second quartile). (More info in [matplotlib docs](https://matplotlib.org/api/_as_gen/matplotlib.pyplot.boxplot.html) and [seaborn docs](https://seaborn.pydata.org/generated/seaborn.boxplot.html)).\n",
    "\n",
    "Everything else at the right or left of the whiskers is considered to be an outlier. Let's examine it in detail."
   ]
  },
  {
   "cell_type": "code",
   "execution_count": 12,
   "metadata": {},
   "outputs": [
    {
     "data": {
      "text/plain": [
       "count          500.00\n",
       "mean     6,640,380.41\n",
       "std      7,343,168.83\n",
       "min         17,224.00\n",
       "25%      1,471,382.00\n",
       "50%      3,125,365.50\n",
       "75%     10,000,000.00\n",
       "max     34,682,550.00\n",
       "Name: salary, dtype: float64"
      ]
     },
     "execution_count": 12,
     "metadata": {},
     "output_type": "execute_result"
    }
   ],
   "source": [
    "salaries.describe()"
   ]
  },
  {
   "cell_type": "code",
   "execution_count": 13,
   "metadata": {},
   "outputs": [],
   "source": [
    "q1 = salaries.quantile(.25)\n",
    "q2 = salaries.quantile(.5)\n",
    "q3 = salaries.quantile(.75)\n",
    "q4 = salaries.quantile(1)"
   ]
  },
  {
   "cell_type": "code",
   "execution_count": 14,
   "metadata": {
    "scrolled": false
   },
   "outputs": [
    {
     "name": "stdout",
     "output_type": "stream",
     "text": [
      "Q1: 1471382.0\n",
      "Q2: 3125365.5\n",
      "Q3: 10000000.0\n",
      "Q4: 34682550.0\n"
     ]
    }
   ],
   "source": [
    "for idx, q in enumerate((q1, q2, q3, q4), start=1):\n",
    "    print(\"Q{}: {}\".format(idx, q))"
   ]
  },
  {
   "cell_type": "code",
   "execution_count": 15,
   "metadata": {
    "scrolled": false
   },
   "outputs": [
    {
     "data": {
      "text/plain": [
       "3125365.5"
      ]
     },
     "execution_count": 15,
     "metadata": {},
     "output_type": "execute_result"
    }
   ],
   "source": [
    "salaries.median()"
   ]
  },
  {
   "cell_type": "markdown",
   "metadata": {},
   "source": [
    "The right whisker is set at `Q3 + 1.5 IQR`. The Interquartile Range (IQR) is defined as `Q3 - Q1`:"
   ]
  },
  {
   "cell_type": "code",
   "execution_count": 16,
   "metadata": {
    "scrolled": false
   },
   "outputs": [
    {
     "data": {
      "text/plain": [
       "8528618.0"
      ]
     },
     "execution_count": 16,
     "metadata": {},
     "output_type": "execute_result"
    }
   ],
   "source": [
    "iqr = q3 - q1\n",
    "iqr"
   ]
  },
  {
   "cell_type": "code",
   "execution_count": 17,
   "metadata": {
    "scrolled": true
   },
   "outputs": [
    {
     "data": {
      "text/plain": [
       "22792927.0"
      ]
     },
     "execution_count": 17,
     "metadata": {},
     "output_type": "execute_result"
    }
   ],
   "source": [
    "q3 + (1.5 * iqr)"
   ]
  },
  {
   "cell_type": "markdown",
   "metadata": {},
   "source": [
    "Putting all together we have:"
   ]
  },
  {
   "cell_type": "code",
   "execution_count": 18,
   "metadata": {
    "scrolled": false
   },
   "outputs": [
    {
     "data": {
      "image/png": "[encoded data removed]",
      "text/plain": [
       "<Figure size 864x432 with 1 Axes>"
      ]
     },
     "metadata": {},
     "output_type": "display_data"
    }
   ],
   "source": [
    "fig, ax = plt.subplots(figsize=(12, 6))\n",
    "\n",
    "sns.boxplot(salaries, orient='h', ax=ax, palette=\"Set3\", linewidth=2.5)\n",
    "\n",
    "ax.text(salaries.median(), -0.03, \"Median (Q2)\", horizontalalignment='left', size='x-large', color='red',)\n",
    "\n",
    "ax.text(q1, -0.03, \"Q1\", horizontalalignment='left', size='x-large', color='red',)\n",
    "ax.text(q3, -0.03, \"Q3\", horizontalalignment='left', size='x-large', color='red',)\n",
    "ax.text(q3 + (1.5 * iqr), -0.03, \"IQR\", horizontalalignment='left', size='x-large', color='red',)\n",
    "fig.tight_layout()"
   ]
  },
  {
   "cell_type": "markdown",
   "metadata": {},
   "source": [
    "A similar diagram is a \"violin\" plot. Which draws the same concepts from a Boxplot but also includes a KDE plot:"
   ]
  },
  {
   "cell_type": "code",
   "execution_count": 19,
   "metadata": {},
   "outputs": [
    {
     "data": {
      "image/png": "[encoded data removed]",
      "text/plain": [
       "<Figure size 864x432 with 1 Axes>"
      ]
     },
     "metadata": {},
     "output_type": "display_data"
    }
   ],
   "source": [
    "fig, ax = plt.subplots(figsize=(12, 6))\n",
    "\n",
    "sns.violinplot(salaries, orient='h', ax=ax, palette=\"Set3\", linewidth=2.5)\n",
    "\n",
    "fig.tight_layout()"
   ]
  },
  {
   "cell_type": "markdown",
   "metadata": {},
   "source": [
    "As a conclusion to this broad analysis, we can say that there aren't a lot of players at the right whisker of our boxplot (`Q3 + 1.5 IQR`) and the ones are probably big stars. We can explore see who they are:"
   ]
  },
  {
   "cell_type": "code",
   "execution_count": 20,
   "metadata": {
    "scrolled": false
   },
   "outputs": [
    {
     "data": {
      "text/html": [
       "<div>\n",
       "<style scoped>\n",
       "    .dataframe tbody tr th:only-of-type {\n",
       "        vertical-align: middle;\n",
       "    }\n",
       "\n",
       "    .dataframe tbody tr th {\n",
       "        vertical-align: top;\n",
       "    }\n",
       "\n",
       "    .dataframe thead th {\n",
       "        text-align: right;\n",
       "    }\n",
       "</style>\n",
       "<table border=\"1\" class=\"dataframe\">\n",
       "  <thead>\n",
       "    <tr style=\"text-align: right;\">\n",
       "      <th></th>\n",
       "      <th>salary</th>\n",
       "      <th>season_start</th>\n",
       "      <th>season_end</th>\n",
       "      <th>team</th>\n",
       "      <th>team_name</th>\n",
       "      <th>Pos</th>\n",
       "      <th>Age</th>\n",
       "    </tr>\n",
       "    <tr>\n",
       "      <th>player</th>\n",
       "      <th></th>\n",
       "      <th></th>\n",
       "      <th></th>\n",
       "      <th></th>\n",
       "      <th></th>\n",
       "      <th></th>\n",
       "      <th></th>\n",
       "    </tr>\n",
       "  </thead>\n",
       "  <tbody>\n",
       "    <tr>\n",
       "      <th>Gordon Hayward</th>\n",
       "      <td>29727900</td>\n",
       "      <td>2017</td>\n",
       "      <td>2018</td>\n",
       "      <td>BOS</td>\n",
       "      <td>Boston Celtic</td>\n",
       "      <td>SF</td>\n",
       "      <td>26.00</td>\n",
       "    </tr>\n",
       "    <tr>\n",
       "      <th>Al Horford</th>\n",
       "      <td>27734405</td>\n",
       "      <td>2017</td>\n",
       "      <td>2018</td>\n",
       "      <td>BOS</td>\n",
       "      <td>Boston Celtic</td>\n",
       "      <td>C</td>\n",
       "      <td>30.00</td>\n",
       "    </tr>\n",
       "    <tr>\n",
       "      <th>Dwight Howard</th>\n",
       "      <td>23500000</td>\n",
       "      <td>2017</td>\n",
       "      <td>2018</td>\n",
       "      <td>CHA</td>\n",
       "      <td>Charlotte Hornets</td>\n",
       "      <td>C</td>\n",
       "      <td>31.00</td>\n",
       "    </tr>\n",
       "    <tr>\n",
       "      <th>LeBron James</th>\n",
       "      <td>33285709</td>\n",
       "      <td>2017</td>\n",
       "      <td>2018</td>\n",
       "      <td>CLE</td>\n",
       "      <td>Cleveland Caveliers</td>\n",
       "      <td>SF</td>\n",
       "      <td>32.00</td>\n",
       "    </tr>\n",
       "    <tr>\n",
       "      <th>Harrison Barnes</th>\n",
       "      <td>23112004</td>\n",
       "      <td>2017</td>\n",
       "      <td>2018</td>\n",
       "      <td>DAL</td>\n",
       "      <td>Dallas Mavericks</td>\n",
       "      <td>PF</td>\n",
       "      <td>24.00</td>\n",
       "    </tr>\n",
       "    <tr>\n",
       "      <th>Paul Millsap</th>\n",
       "      <td>31269231</td>\n",
       "      <td>2017</td>\n",
       "      <td>2018</td>\n",
       "      <td>DEN</td>\n",
       "      <td>Denver Nuggets</td>\n",
       "      <td>PF</td>\n",
       "      <td>31.00</td>\n",
       "    </tr>\n",
       "    <tr>\n",
       "      <th>Andre Drummond</th>\n",
       "      <td>23775506</td>\n",
       "      <td>2017</td>\n",
       "      <td>2018</td>\n",
       "      <td>DET</td>\n",
       "      <td>Detroit Pistons</td>\n",
       "      <td>C</td>\n",
       "      <td>23.00</td>\n",
       "    </tr>\n",
       "    <tr>\n",
       "      <th>Stephen Curry</th>\n",
       "      <td>34682550</td>\n",
       "      <td>2017</td>\n",
       "      <td>2018</td>\n",
       "      <td>GSW</td>\n",
       "      <td>Golden State Warriors</td>\n",
       "      <td>PG</td>\n",
       "      <td>28.00</td>\n",
       "    </tr>\n",
       "    <tr>\n",
       "      <th>Kevin Durant</th>\n",
       "      <td>25000000</td>\n",
       "      <td>2017</td>\n",
       "      <td>2018</td>\n",
       "      <td>GSW</td>\n",
       "      <td>Golden State Warriors</td>\n",
       "      <td>PF</td>\n",
       "      <td>28.00</td>\n",
       "    </tr>\n",
       "    <tr>\n",
       "      <th>James Harden</th>\n",
       "      <td>28299399</td>\n",
       "      <td>2017</td>\n",
       "      <td>2018</td>\n",
       "      <td>HOU</td>\n",
       "      <td>Houston Rockets</td>\n",
       "      <td>PG</td>\n",
       "      <td>27.00</td>\n",
       "    </tr>\n",
       "    <tr>\n",
       "      <th>Chris Paul</th>\n",
       "      <td>24599495</td>\n",
       "      <td>2017</td>\n",
       "      <td>2018</td>\n",
       "      <td>HOU</td>\n",
       "      <td>Houston Rockets</td>\n",
       "      <td>PG</td>\n",
       "      <td>31.00</td>\n",
       "    </tr>\n",
       "    <tr>\n",
       "      <th>Blake Griffin</th>\n",
       "      <td>29512900</td>\n",
       "      <td>2017</td>\n",
       "      <td>2018</td>\n",
       "      <td>LAC</td>\n",
       "      <td>Los Angeles Clippers</td>\n",
       "      <td>PF</td>\n",
       "      <td>27.00</td>\n",
       "    </tr>\n",
       "    <tr>\n",
       "      <th>Mike Conley</th>\n",
       "      <td>28530608</td>\n",
       "      <td>2017</td>\n",
       "      <td>2018</td>\n",
       "      <td>MEM</td>\n",
       "      <td>Memphis Grizzlies</td>\n",
       "      <td>PG</td>\n",
       "      <td>29.00</td>\n",
       "    </tr>\n",
       "    <tr>\n",
       "      <th>Chandler Parsons</th>\n",
       "      <td>23112004</td>\n",
       "      <td>2017</td>\n",
       "      <td>2018</td>\n",
       "      <td>MEM</td>\n",
       "      <td>Memphis Grizzlies</td>\n",
       "      <td>SF</td>\n",
       "      <td>28.00</td>\n",
       "    </tr>\n",
       "    <tr>\n",
       "      <th>Chris Bosh</th>\n",
       "      <td>25289390</td>\n",
       "      <td>2017</td>\n",
       "      <td>2018</td>\n",
       "      <td>MIA</td>\n",
       "      <td>Miami Heat</td>\n",
       "      <td>NaN</td>\n",
       "      <td>nan</td>\n",
       "    </tr>\n",
       "    <tr>\n",
       "      <th>Hassan Whiteside</th>\n",
       "      <td>23775506</td>\n",
       "      <td>2017</td>\n",
       "      <td>2018</td>\n",
       "      <td>MIA</td>\n",
       "      <td>Miami Heat</td>\n",
       "      <td>C</td>\n",
       "      <td>27.00</td>\n",
       "    </tr>\n",
       "    <tr>\n",
       "      <th>Jrue Holiday</th>\n",
       "      <td>25686667</td>\n",
       "      <td>2017</td>\n",
       "      <td>2018</td>\n",
       "      <td>NOH</td>\n",
       "      <td>New Orleans Pelicans</td>\n",
       "      <td>PG</td>\n",
       "      <td>26.00</td>\n",
       "    </tr>\n",
       "    <tr>\n",
       "      <th>Anthony Davis</th>\n",
       "      <td>23775506</td>\n",
       "      <td>2017</td>\n",
       "      <td>2018</td>\n",
       "      <td>NOH</td>\n",
       "      <td>New Orleans Pelicans</td>\n",
       "      <td>C</td>\n",
       "      <td>23.00</td>\n",
       "    </tr>\n",
       "    <tr>\n",
       "      <th>Russell Westbrook</th>\n",
       "      <td>28530608</td>\n",
       "      <td>2017</td>\n",
       "      <td>2018</td>\n",
       "      <td>OKC</td>\n",
       "      <td>Oklahoma City Thunder</td>\n",
       "      <td>PG</td>\n",
       "      <td>28.00</td>\n",
       "    </tr>\n",
       "    <tr>\n",
       "      <th>Carmelo Anthony</th>\n",
       "      <td>26243760</td>\n",
       "      <td>2017</td>\n",
       "      <td>2018</td>\n",
       "      <td>OKC</td>\n",
       "      <td>Oklahoma City Thunder</td>\n",
       "      <td>SF</td>\n",
       "      <td>32.00</td>\n",
       "    </tr>\n",
       "    <tr>\n",
       "      <th>J.J. Redick</th>\n",
       "      <td>23000000</td>\n",
       "      <td>2017</td>\n",
       "      <td>2018</td>\n",
       "      <td>PHI</td>\n",
       "      <td>Philadelphia 76ers</td>\n",
       "      <td>SG</td>\n",
       "      <td>32.00</td>\n",
       "    </tr>\n",
       "    <tr>\n",
       "      <th>Damian Lillard</th>\n",
       "      <td>26153057</td>\n",
       "      <td>2017</td>\n",
       "      <td>2018</td>\n",
       "      <td>POR</td>\n",
       "      <td>Portland Trail Blazers</td>\n",
       "      <td>PG</td>\n",
       "      <td>26.00</td>\n",
       "    </tr>\n",
       "    <tr>\n",
       "      <th>C.J. McCollum</th>\n",
       "      <td>23962573</td>\n",
       "      <td>2017</td>\n",
       "      <td>2018</td>\n",
       "      <td>POR</td>\n",
       "      <td>Portland Trail Blazers</td>\n",
       "      <td>SG</td>\n",
       "      <td>25.00</td>\n",
       "    </tr>\n",
       "    <tr>\n",
       "      <th>Kyle Lowry</th>\n",
       "      <td>28703704</td>\n",
       "      <td>2017</td>\n",
       "      <td>2018</td>\n",
       "      <td>TOR</td>\n",
       "      <td>Toronto Raptors</td>\n",
       "      <td>PG</td>\n",
       "      <td>30.00</td>\n",
       "    </tr>\n",
       "    <tr>\n",
       "      <th>DeMar DeRozan</th>\n",
       "      <td>27739975</td>\n",
       "      <td>2017</td>\n",
       "      <td>2018</td>\n",
       "      <td>TOR</td>\n",
       "      <td>Toronto Raptors</td>\n",
       "      <td>SG</td>\n",
       "      <td>27.00</td>\n",
       "    </tr>\n",
       "    <tr>\n",
       "      <th>Otto Porter</th>\n",
       "      <td>24773250</td>\n",
       "      <td>2017</td>\n",
       "      <td>2018</td>\n",
       "      <td>WAS</td>\n",
       "      <td>Washington Wizards</td>\n",
       "      <td>SF</td>\n",
       "      <td>23.00</td>\n",
       "    </tr>\n",
       "    <tr>\n",
       "      <th>Bradley Beal</th>\n",
       "      <td>23775506</td>\n",
       "      <td>2017</td>\n",
       "      <td>2018</td>\n",
       "      <td>WAS</td>\n",
       "      <td>Washington Wizards</td>\n",
       "      <td>SG</td>\n",
       "      <td>23.00</td>\n",
       "    </tr>\n",
       "  </tbody>\n",
       "</table>\n",
       "</div>"
      ],
      "text/plain": [
       "                     salary  season_start  season_end team  \\\n",
       "player                                                       \n",
       "Gordon Hayward     29727900          2017        2018  BOS   \n",
       "Al Horford         27734405          2017        2018  BOS   \n",
       "Dwight Howard      23500000          2017        2018  CHA   \n",
       "LeBron James       33285709          2017        2018  CLE   \n",
       "Harrison Barnes    23112004          2017        2018  DAL   \n",
       "Paul Millsap       31269231          2017        2018  DEN   \n",
       "Andre Drummond     23775506          2017        2018  DET   \n",
       "Stephen Curry      34682550          2017        2018  GSW   \n",
       "Kevin Durant       25000000          2017        2018  GSW   \n",
       "James Harden       28299399          2017        2018  HOU   \n",
       "Chris Paul         24599495          2017        2018  HOU   \n",
       "Blake Griffin      29512900          2017        2018  LAC   \n",
       "Mike Conley        28530608          2017        2018  MEM   \n",
       "Chandler Parsons   23112004          2017        2018  MEM   \n",
       "Chris Bosh         25289390          2017        2018  MIA   \n",
       "Hassan Whiteside   23775506          2017        2018  MIA   \n",
       "Jrue Holiday       25686667          2017        2018  NOH   \n",
       "Anthony Davis      23775506          2017        2018  NOH   \n",
       "Russell Westbrook  28530608          2017        2018  OKC   \n",
       "Carmelo Anthony    26243760          2017        2018  OKC   \n",
       "J.J. Redick        23000000          2017        2018  PHI   \n",
       "Damian Lillard     26153057          2017        2018  POR   \n",
       "C.J. McCollum      23962573          2017        2018  POR   \n",
       "Kyle Lowry         28703704          2017        2018  TOR   \n",
       "DeMar DeRozan      27739975          2017        2018  TOR   \n",
       "Otto Porter        24773250          2017        2018  WAS   \n",
       "Bradley Beal       23775506          2017        2018  WAS   \n",
       "\n",
       "                                team_name  Pos   Age  \n",
       "player                                                \n",
       "Gordon Hayward              Boston Celtic   SF 26.00  \n",
       "Al Horford                  Boston Celtic    C 30.00  \n",
       "Dwight Howard           Charlotte Hornets    C 31.00  \n",
       "LeBron James          Cleveland Caveliers   SF 32.00  \n",
       "Harrison Barnes          Dallas Mavericks   PF 24.00  \n",
       "Paul Millsap               Denver Nuggets   PF 31.00  \n",
       "Andre Drummond            Detroit Pistons    C 23.00  \n",
       "Stephen Curry       Golden State Warriors   PG 28.00  \n",
       "Kevin Durant        Golden State Warriors   PF 28.00  \n",
       "James Harden              Houston Rockets   PG 27.00  \n",
       "Chris Paul                Houston Rockets   PG 31.00  \n",
       "Blake Griffin        Los Angeles Clippers   PF 27.00  \n",
       "Mike Conley             Memphis Grizzlies   PG 29.00  \n",
       "Chandler Parsons        Memphis Grizzlies   SF 28.00  \n",
       "Chris Bosh                     Miami Heat  NaN   nan  \n",
       "Hassan Whiteside               Miami Heat    C 27.00  \n",
       "Jrue Holiday         New Orleans Pelicans   PG 26.00  \n",
       "Anthony Davis        New Orleans Pelicans    C 23.00  \n",
       "Russell Westbrook   Oklahoma City Thunder   PG 28.00  \n",
       "Carmelo Anthony     Oklahoma City Thunder   SF 32.00  \n",
       "J.J. Redick            Philadelphia 76ers   SG 32.00  \n",
       "Damian Lillard     Portland Trail Blazers   PG 26.00  \n",
       "C.J. McCollum      Portland Trail Blazers   SG 25.00  \n",
       "Kyle Lowry               Toronto Raptors    PG 30.00  \n",
       "DeMar DeRozan            Toronto Raptors    SG 27.00  \n",
       "Otto Porter            Washington Wizards   SF 23.00  \n",
       "Bradley Beal           Washington Wizards   SG 23.00  "
      ]
     },
     "execution_count": 20,
     "metadata": {},
     "output_type": "execute_result"
    }
   ],
   "source": [
    "best_salaries = df[df['salary'] >= (q3 + 1.5 * iqr)]\n",
    "best_salaries"
   ]
  },
  {
   "cell_type": "code",
   "execution_count": 21,
   "metadata": {},
   "outputs": [
    {
     "data": {
      "text/html": [
       "<div>\n",
       "<style scoped>\n",
       "    .dataframe tbody tr th:only-of-type {\n",
       "        vertical-align: middle;\n",
       "    }\n",
       "\n",
       "    .dataframe tbody tr th {\n",
       "        vertical-align: top;\n",
       "    }\n",
       "\n",
       "    .dataframe thead th {\n",
       "        text-align: right;\n",
       "    }\n",
       "</style>\n",
       "<table border=\"1\" class=\"dataframe\">\n",
       "  <thead>\n",
       "    <tr style=\"text-align: right;\">\n",
       "      <th></th>\n",
       "      <th>salary</th>\n",
       "      <th>season_start</th>\n",
       "      <th>season_end</th>\n",
       "      <th>team</th>\n",
       "      <th>team_name</th>\n",
       "      <th>Pos</th>\n",
       "      <th>Age</th>\n",
       "    </tr>\n",
       "    <tr>\n",
       "      <th>player</th>\n",
       "      <th></th>\n",
       "      <th></th>\n",
       "      <th></th>\n",
       "      <th></th>\n",
       "      <th></th>\n",
       "      <th></th>\n",
       "      <th></th>\n",
       "    </tr>\n",
       "  </thead>\n",
       "  <tbody>\n",
       "    <tr>\n",
       "      <th>Stephen Curry</th>\n",
       "      <td>34682550</td>\n",
       "      <td>2017</td>\n",
       "      <td>2018</td>\n",
       "      <td>GSW</td>\n",
       "      <td>Golden State Warriors</td>\n",
       "      <td>PG</td>\n",
       "      <td>28.00</td>\n",
       "    </tr>\n",
       "    <tr>\n",
       "      <th>LeBron James</th>\n",
       "      <td>33285709</td>\n",
       "      <td>2017</td>\n",
       "      <td>2018</td>\n",
       "      <td>CLE</td>\n",
       "      <td>Cleveland Caveliers</td>\n",
       "      <td>SF</td>\n",
       "      <td>32.00</td>\n",
       "    </tr>\n",
       "    <tr>\n",
       "      <th>Paul Millsap</th>\n",
       "      <td>31269231</td>\n",
       "      <td>2017</td>\n",
       "      <td>2018</td>\n",
       "      <td>DEN</td>\n",
       "      <td>Denver Nuggets</td>\n",
       "      <td>PF</td>\n",
       "      <td>31.00</td>\n",
       "    </tr>\n",
       "    <tr>\n",
       "      <th>Gordon Hayward</th>\n",
       "      <td>29727900</td>\n",
       "      <td>2017</td>\n",
       "      <td>2018</td>\n",
       "      <td>BOS</td>\n",
       "      <td>Boston Celtic</td>\n",
       "      <td>SF</td>\n",
       "      <td>26.00</td>\n",
       "    </tr>\n",
       "    <tr>\n",
       "      <th>Blake Griffin</th>\n",
       "      <td>29512900</td>\n",
       "      <td>2017</td>\n",
       "      <td>2018</td>\n",
       "      <td>LAC</td>\n",
       "      <td>Los Angeles Clippers</td>\n",
       "      <td>PF</td>\n",
       "      <td>27.00</td>\n",
       "    </tr>\n",
       "    <tr>\n",
       "      <th>Kyle Lowry</th>\n",
       "      <td>28703704</td>\n",
       "      <td>2017</td>\n",
       "      <td>2018</td>\n",
       "      <td>TOR</td>\n",
       "      <td>Toronto Raptors</td>\n",
       "      <td>PG</td>\n",
       "      <td>30.00</td>\n",
       "    </tr>\n",
       "    <tr>\n",
       "      <th>Mike Conley</th>\n",
       "      <td>28530608</td>\n",
       "      <td>2017</td>\n",
       "      <td>2018</td>\n",
       "      <td>MEM</td>\n",
       "      <td>Memphis Grizzlies</td>\n",
       "      <td>PG</td>\n",
       "      <td>29.00</td>\n",
       "    </tr>\n",
       "    <tr>\n",
       "      <th>Russell Westbrook</th>\n",
       "      <td>28530608</td>\n",
       "      <td>2017</td>\n",
       "      <td>2018</td>\n",
       "      <td>OKC</td>\n",
       "      <td>Oklahoma City Thunder</td>\n",
       "      <td>PG</td>\n",
       "      <td>28.00</td>\n",
       "    </tr>\n",
       "    <tr>\n",
       "      <th>James Harden</th>\n",
       "      <td>28299399</td>\n",
       "      <td>2017</td>\n",
       "      <td>2018</td>\n",
       "      <td>HOU</td>\n",
       "      <td>Houston Rockets</td>\n",
       "      <td>PG</td>\n",
       "      <td>27.00</td>\n",
       "    </tr>\n",
       "    <tr>\n",
       "      <th>DeMar DeRozan</th>\n",
       "      <td>27739975</td>\n",
       "      <td>2017</td>\n",
       "      <td>2018</td>\n",
       "      <td>TOR</td>\n",
       "      <td>Toronto Raptors</td>\n",
       "      <td>SG</td>\n",
       "      <td>27.00</td>\n",
       "    </tr>\n",
       "    <tr>\n",
       "      <th>Al Horford</th>\n",
       "      <td>27734405</td>\n",
       "      <td>2017</td>\n",
       "      <td>2018</td>\n",
       "      <td>BOS</td>\n",
       "      <td>Boston Celtic</td>\n",
       "      <td>C</td>\n",
       "      <td>30.00</td>\n",
       "    </tr>\n",
       "    <tr>\n",
       "      <th>Carmelo Anthony</th>\n",
       "      <td>26243760</td>\n",
       "      <td>2017</td>\n",
       "      <td>2018</td>\n",
       "      <td>OKC</td>\n",
       "      <td>Oklahoma City Thunder</td>\n",
       "      <td>SF</td>\n",
       "      <td>32.00</td>\n",
       "    </tr>\n",
       "    <tr>\n",
       "      <th>Damian Lillard</th>\n",
       "      <td>26153057</td>\n",
       "      <td>2017</td>\n",
       "      <td>2018</td>\n",
       "      <td>POR</td>\n",
       "      <td>Portland Trail Blazers</td>\n",
       "      <td>PG</td>\n",
       "      <td>26.00</td>\n",
       "    </tr>\n",
       "    <tr>\n",
       "      <th>Jrue Holiday</th>\n",
       "      <td>25686667</td>\n",
       "      <td>2017</td>\n",
       "      <td>2018</td>\n",
       "      <td>NOH</td>\n",
       "      <td>New Orleans Pelicans</td>\n",
       "      <td>PG</td>\n",
       "      <td>26.00</td>\n",
       "    </tr>\n",
       "    <tr>\n",
       "      <th>Chris Bosh</th>\n",
       "      <td>25289390</td>\n",
       "      <td>2017</td>\n",
       "      <td>2018</td>\n",
       "      <td>MIA</td>\n",
       "      <td>Miami Heat</td>\n",
       "      <td>NaN</td>\n",
       "      <td>nan</td>\n",
       "    </tr>\n",
       "    <tr>\n",
       "      <th>Kevin Durant</th>\n",
       "      <td>25000000</td>\n",
       "      <td>2017</td>\n",
       "      <td>2018</td>\n",
       "      <td>GSW</td>\n",
       "      <td>Golden State Warriors</td>\n",
       "      <td>PF</td>\n",
       "      <td>28.00</td>\n",
       "    </tr>\n",
       "    <tr>\n",
       "      <th>Otto Porter</th>\n",
       "      <td>24773250</td>\n",
       "      <td>2017</td>\n",
       "      <td>2018</td>\n",
       "      <td>WAS</td>\n",
       "      <td>Washington Wizards</td>\n",
       "      <td>SF</td>\n",
       "      <td>23.00</td>\n",
       "    </tr>\n",
       "    <tr>\n",
       "      <th>Chris Paul</th>\n",
       "      <td>24599495</td>\n",
       "      <td>2017</td>\n",
       "      <td>2018</td>\n",
       "      <td>HOU</td>\n",
       "      <td>Houston Rockets</td>\n",
       "      <td>PG</td>\n",
       "      <td>31.00</td>\n",
       "    </tr>\n",
       "    <tr>\n",
       "      <th>C.J. McCollum</th>\n",
       "      <td>23962573</td>\n",
       "      <td>2017</td>\n",
       "      <td>2018</td>\n",
       "      <td>POR</td>\n",
       "      <td>Portland Trail Blazers</td>\n",
       "      <td>SG</td>\n",
       "      <td>25.00</td>\n",
       "    </tr>\n",
       "    <tr>\n",
       "      <th>Bradley Beal</th>\n",
       "      <td>23775506</td>\n",
       "      <td>2017</td>\n",
       "      <td>2018</td>\n",
       "      <td>WAS</td>\n",
       "      <td>Washington Wizards</td>\n",
       "      <td>SG</td>\n",
       "      <td>23.00</td>\n",
       "    </tr>\n",
       "    <tr>\n",
       "      <th>Anthony Davis</th>\n",
       "      <td>23775506</td>\n",
       "      <td>2017</td>\n",
       "      <td>2018</td>\n",
       "      <td>NOH</td>\n",
       "      <td>New Orleans Pelicans</td>\n",
       "      <td>C</td>\n",
       "      <td>23.00</td>\n",
       "    </tr>\n",
       "    <tr>\n",
       "      <th>Hassan Whiteside</th>\n",
       "      <td>23775506</td>\n",
       "      <td>2017</td>\n",
       "      <td>2018</td>\n",
       "      <td>MIA</td>\n",
       "      <td>Miami Heat</td>\n",
       "      <td>C</td>\n",
       "      <td>27.00</td>\n",
       "    </tr>\n",
       "    <tr>\n",
       "      <th>Andre Drummond</th>\n",
       "      <td>23775506</td>\n",
       "      <td>2017</td>\n",
       "      <td>2018</td>\n",
       "      <td>DET</td>\n",
       "      <td>Detroit Pistons</td>\n",
       "      <td>C</td>\n",
       "      <td>23.00</td>\n",
       "    </tr>\n",
       "    <tr>\n",
       "      <th>Dwight Howard</th>\n",
       "      <td>23500000</td>\n",
       "      <td>2017</td>\n",
       "      <td>2018</td>\n",
       "      <td>CHA</td>\n",
       "      <td>Charlotte Hornets</td>\n",
       "      <td>C</td>\n",
       "      <td>31.00</td>\n",
       "    </tr>\n",
       "    <tr>\n",
       "      <th>Harrison Barnes</th>\n",
       "      <td>23112004</td>\n",
       "      <td>2017</td>\n",
       "      <td>2018</td>\n",
       "      <td>DAL</td>\n",
       "      <td>Dallas Mavericks</td>\n",
       "      <td>PF</td>\n",
       "      <td>24.00</td>\n",
       "    </tr>\n",
       "    <tr>\n",
       "      <th>Chandler Parsons</th>\n",
       "      <td>23112004</td>\n",
       "      <td>2017</td>\n",
       "      <td>2018</td>\n",
       "      <td>MEM</td>\n",
       "      <td>Memphis Grizzlies</td>\n",
       "      <td>SF</td>\n",
       "      <td>28.00</td>\n",
       "    </tr>\n",
       "    <tr>\n",
       "      <th>J.J. Redick</th>\n",
       "      <td>23000000</td>\n",
       "      <td>2017</td>\n",
       "      <td>2018</td>\n",
       "      <td>PHI</td>\n",
       "      <td>Philadelphia 76ers</td>\n",
       "      <td>SG</td>\n",
       "      <td>32.00</td>\n",
       "    </tr>\n",
       "  </tbody>\n",
       "</table>\n",
       "</div>"
      ],
      "text/plain": [
       "                     salary  season_start  season_end team  \\\n",
       "player                                                       \n",
       "Stephen Curry      34682550          2017        2018  GSW   \n",
       "LeBron James       33285709          2017        2018  CLE   \n",
       "Paul Millsap       31269231          2017        2018  DEN   \n",
       "Gordon Hayward     29727900          2017        2018  BOS   \n",
       "Blake Griffin      29512900          2017        2018  LAC   \n",
       "Kyle Lowry         28703704          2017        2018  TOR   \n",
       "Mike Conley        28530608          2017        2018  MEM   \n",
       "Russell Westbrook  28530608          2017        2018  OKC   \n",
       "James Harden       28299399          2017        2018  HOU   \n",
       "DeMar DeRozan      27739975          2017        2018  TOR   \n",
       "Al Horford         27734405          2017        2018  BOS   \n",
       "Carmelo Anthony    26243760          2017        2018  OKC   \n",
       "Damian Lillard     26153057          2017        2018  POR   \n",
       "Jrue Holiday       25686667          2017        2018  NOH   \n",
       "Chris Bosh         25289390          2017        2018  MIA   \n",
       "Kevin Durant       25000000          2017        2018  GSW   \n",
       "Otto Porter        24773250          2017        2018  WAS   \n",
       "Chris Paul         24599495          2017        2018  HOU   \n",
       "C.J. McCollum      23962573          2017        2018  POR   \n",
       "Bradley Beal       23775506          2017        2018  WAS   \n",
       "Anthony Davis      23775506          2017        2018  NOH   \n",
       "Hassan Whiteside   23775506          2017        2018  MIA   \n",
       "Andre Drummond     23775506          2017        2018  DET   \n",
       "Dwight Howard      23500000          2017        2018  CHA   \n",
       "Harrison Barnes    23112004          2017        2018  DAL   \n",
       "Chandler Parsons   23112004          2017        2018  MEM   \n",
       "J.J. Redick        23000000          2017        2018  PHI   \n",
       "\n",
       "                                team_name  Pos   Age  \n",
       "player                                                \n",
       "Stephen Curry       Golden State Warriors   PG 28.00  \n",
       "LeBron James          Cleveland Caveliers   SF 32.00  \n",
       "Paul Millsap               Denver Nuggets   PF 31.00  \n",
       "Gordon Hayward              Boston Celtic   SF 26.00  \n",
       "Blake Griffin        Los Angeles Clippers   PF 27.00  \n",
       "Kyle Lowry               Toronto Raptors    PG 30.00  \n",
       "Mike Conley             Memphis Grizzlies   PG 29.00  \n",
       "Russell Westbrook   Oklahoma City Thunder   PG 28.00  \n",
       "James Harden              Houston Rockets   PG 27.00  \n",
       "DeMar DeRozan            Toronto Raptors    SG 27.00  \n",
       "Al Horford                  Boston Celtic    C 30.00  \n",
       "Carmelo Anthony     Oklahoma City Thunder   SF 32.00  \n",
       "Damian Lillard     Portland Trail Blazers   PG 26.00  \n",
       "Jrue Holiday         New Orleans Pelicans   PG 26.00  \n",
       "Chris Bosh                     Miami Heat  NaN   nan  \n",
       "Kevin Durant        Golden State Warriors   PF 28.00  \n",
       "Otto Porter            Washington Wizards   SF 23.00  \n",
       "Chris Paul                Houston Rockets   PG 31.00  \n",
       "C.J. McCollum      Portland Trail Blazers   SG 25.00  \n",
       "Bradley Beal           Washington Wizards   SG 23.00  \n",
       "Anthony Davis        New Orleans Pelicans    C 23.00  \n",
       "Hassan Whiteside               Miami Heat    C 27.00  \n",
       "Andre Drummond            Detroit Pistons    C 23.00  \n",
       "Dwight Howard           Charlotte Hornets    C 31.00  \n",
       "Harrison Barnes          Dallas Mavericks   PF 24.00  \n",
       "Chandler Parsons        Memphis Grizzlies   SF 28.00  \n",
       "J.J. Redick            Philadelphia 76ers   SG 32.00  "
      ]
     },
     "execution_count": 21,
     "metadata": {},
     "output_type": "execute_result"
    }
   ],
   "source": [
    "best_salaries.sort_values('salary', ascending=False)"
   ]
  },
  {
   "cell_type": "code",
   "execution_count": 22,
   "metadata": {
    "scrolled": false
   },
   "outputs": [
    {
     "data": {
      "text/plain": [
       "(27, 7)"
      ]
     },
     "execution_count": 22,
     "metadata": {},
     "output_type": "execute_result"
    }
   ],
   "source": [
    "best_salaries.shape"
   ]
  },
  {
   "cell_type": "code",
   "execution_count": 23,
   "metadata": {},
   "outputs": [
    {
     "data": {
      "text/plain": [
       "5.4"
      ]
     },
     "execution_count": 23,
     "metadata": {},
     "output_type": "execute_result"
    }
   ],
   "source": [
    "len(best_salaries) / len(df) * 100"
   ]
  },
  {
   "cell_type": "markdown",
   "metadata": {},
   "source": [
    "Only 27 players (out of 500) make more than that hard limit imposed by `Q3 + 1.5 * IQR`. And that represents 5.4% of the players."
   ]
  },
  {
   "cell_type": "code",
   "execution_count": 24,
   "metadata": {
    "scrolled": true
   },
   "outputs": [
    {
     "data": {
      "text/plain": [
       "22792927.0"
      ]
     },
     "execution_count": 24,
     "metadata": {},
     "output_type": "execute_result"
    }
   ],
   "source": [
    "q3 + (1.5 * iqr)"
   ]
  },
  {
   "cell_type": "code",
   "execution_count": 25,
   "metadata": {
    "scrolled": true
   },
   "outputs": [
    {
     "data": {
      "text/plain": [
       "(1471382.0, 3125365.5, 10000000.0)"
      ]
     },
     "execution_count": 25,
     "metadata": {},
     "output_type": "execute_result"
    }
   ],
   "source": [
    "q1, q2, q3"
   ]
  },
  {
   "cell_type": "markdown",
   "metadata": {},
   "source": [
    "We're done with the general analysis. Let's move to discretize our salaries to understand it a little bit better. We'll break it into 3 bins:\n",
    "* Lowest paid players (below q2)\n",
    "* Middle Range\n",
    "* Highest paid players (above the limit)"
   ]
  },
  {
   "cell_type": "code",
   "execution_count": 26,
   "metadata": {},
   "outputs": [],
   "source": [
    "categories = pd.cut(\n",
    "    salaries,\n",
    "    [0, q2, (q3 + 1.5 * iqr), salaries.max()],\n",
    "    labels=['Lowest Paid', 'Middle Range', 'Highest Paid'])"
   ]
  },
  {
   "cell_type": "code",
   "execution_count": 27,
   "metadata": {},
   "outputs": [],
   "source": [
    "categories.name = 'Salary Range'"
   ]
  },
  {
   "cell_type": "code",
   "execution_count": 28,
   "metadata": {
    "scrolled": true
   },
   "outputs": [
    {
     "data": {
      "text/plain": [
       "Lowest Paid     250\n",
       "Middle Range    223\n",
       "Highest Paid     27\n",
       "Name: Salary Range, dtype: int64"
      ]
     },
     "execution_count": 28,
     "metadata": {},
     "output_type": "execute_result"
    }
   ],
   "source": [
    "categories.value_counts()"
   ]
  },
  {
   "cell_type": "markdown",
   "metadata": {},
   "source": [
    "We can see that we still have 27 highest paid players, and the distribution of Lowest Paid and Middle Range is similar. We can now add the Salary Range to the `DataFrame`:"
   ]
  },
  {
   "cell_type": "code",
   "execution_count": 29,
   "metadata": {
    "scrolled": false
   },
   "outputs": [],
   "source": [
    "df['Salary Range'] = categories"
   ]
  },
  {
   "cell_type": "code",
   "execution_count": 30,
   "metadata": {
    "scrolled": false
   },
   "outputs": [
    {
     "data": {
      "text/html": [
       "<div>\n",
       "<style scoped>\n",
       "    .dataframe tbody tr th:only-of-type {\n",
       "        vertical-align: middle;\n",
       "    }\n",
       "\n",
       "    .dataframe tbody tr th {\n",
       "        vertical-align: top;\n",
       "    }\n",
       "\n",
       "    .dataframe thead th {\n",
       "        text-align: right;\n",
       "    }\n",
       "</style>\n",
       "<table border=\"1\" class=\"dataframe\">\n",
       "  <thead>\n",
       "    <tr style=\"text-align: right;\">\n",
       "      <th></th>\n",
       "      <th>salary</th>\n",
       "      <th>season_start</th>\n",
       "      <th>season_end</th>\n",
       "      <th>team</th>\n",
       "      <th>team_name</th>\n",
       "      <th>Pos</th>\n",
       "      <th>Age</th>\n",
       "      <th>Salary Range</th>\n",
       "    </tr>\n",
       "    <tr>\n",
       "      <th>player</th>\n",
       "      <th></th>\n",
       "      <th></th>\n",
       "      <th></th>\n",
       "      <th></th>\n",
       "      <th></th>\n",
       "      <th></th>\n",
       "      <th></th>\n",
       "      <th></th>\n",
       "    </tr>\n",
       "  </thead>\n",
       "  <tbody>\n",
       "    <tr>\n",
       "      <th>Kent Bazemore</th>\n",
       "      <td>16910113</td>\n",
       "      <td>2017</td>\n",
       "      <td>2018</td>\n",
       "      <td>ATL</td>\n",
       "      <td>Atlanta Hawks</td>\n",
       "      <td>SF</td>\n",
       "      <td>27.00</td>\n",
       "      <td>Middle Range</td>\n",
       "    </tr>\n",
       "    <tr>\n",
       "      <th>Dennis Schroder</th>\n",
       "      <td>15500000</td>\n",
       "      <td>2017</td>\n",
       "      <td>2018</td>\n",
       "      <td>ATL</td>\n",
       "      <td>Atlanta Hawks</td>\n",
       "      <td>PG</td>\n",
       "      <td>23.00</td>\n",
       "      <td>Middle Range</td>\n",
       "    </tr>\n",
       "    <tr>\n",
       "      <th>Miles Plumlee</th>\n",
       "      <td>12500000</td>\n",
       "      <td>2017</td>\n",
       "      <td>2018</td>\n",
       "      <td>ATL</td>\n",
       "      <td>Atlanta Hawks</td>\n",
       "      <td>C</td>\n",
       "      <td>28.00</td>\n",
       "      <td>Middle Range</td>\n",
       "    </tr>\n",
       "    <tr>\n",
       "      <th>Jamal Crawford</th>\n",
       "      <td>10942762</td>\n",
       "      <td>2017</td>\n",
       "      <td>2018</td>\n",
       "      <td>ATL</td>\n",
       "      <td>Atlanta Hawks</td>\n",
       "      <td>SG</td>\n",
       "      <td>36.00</td>\n",
       "      <td>Middle Range</td>\n",
       "    </tr>\n",
       "    <tr>\n",
       "      <th>Marco Belinelli</th>\n",
       "      <td>6606060</td>\n",
       "      <td>2017</td>\n",
       "      <td>2018</td>\n",
       "      <td>ATL</td>\n",
       "      <td>Atlanta Hawks</td>\n",
       "      <td>SG</td>\n",
       "      <td>30.00</td>\n",
       "      <td>Middle Range</td>\n",
       "    </tr>\n",
       "  </tbody>\n",
       "</table>\n",
       "</div>"
      ],
      "text/plain": [
       "                   salary  season_start  season_end team      team_name Pos  \\\n",
       "player                                                                        \n",
       "Kent Bazemore    16910113          2017        2018  ATL  Atlanta Hawks  SF   \n",
       "Dennis Schroder  15500000          2017        2018  ATL  Atlanta Hawks  PG   \n",
       "Miles Plumlee    12500000          2017        2018  ATL  Atlanta Hawks   C   \n",
       "Jamal Crawford   10942762          2017        2018  ATL  Atlanta Hawks  SG   \n",
       "Marco Belinelli   6606060          2017        2018  ATL  Atlanta Hawks  SG   \n",
       "\n",
       "                  Age  Salary Range  \n",
       "player                               \n",
       "Kent Bazemore   27.00  Middle Range  \n",
       "Dennis Schroder 23.00  Middle Range  \n",
       "Miles Plumlee   28.00  Middle Range  \n",
       "Jamal Crawford  36.00  Middle Range  \n",
       "Marco Belinelli 30.00  Middle Range  "
      ]
     },
     "execution_count": 30,
     "metadata": {},
     "output_type": "execute_result"
    }
   ],
   "source": [
    "df.head()"
   ]
  },
  {
   "cell_type": "markdown",
   "metadata": {},
   "source": [
    "Now we can get our highest paid players with our previous formula:"
   ]
  },
  {
   "cell_type": "code",
   "execution_count": 31,
   "metadata": {
    "scrolled": true
   },
   "outputs": [
    {
     "data": {
      "text/html": [
       "<div>\n",
       "<style scoped>\n",
       "    .dataframe tbody tr th:only-of-type {\n",
       "        vertical-align: middle;\n",
       "    }\n",
       "\n",
       "    .dataframe tbody tr th {\n",
       "        vertical-align: top;\n",
       "    }\n",
       "\n",
       "    .dataframe thead th {\n",
       "        text-align: right;\n",
       "    }\n",
       "</style>\n",
       "<table border=\"1\" class=\"dataframe\">\n",
       "  <thead>\n",
       "    <tr style=\"text-align: right;\">\n",
       "      <th></th>\n",
       "      <th>salary</th>\n",
       "      <th>season_start</th>\n",
       "      <th>season_end</th>\n",
       "      <th>team</th>\n",
       "      <th>team_name</th>\n",
       "      <th>Pos</th>\n",
       "      <th>Age</th>\n",
       "      <th>Salary Range</th>\n",
       "    </tr>\n",
       "    <tr>\n",
       "      <th>player</th>\n",
       "      <th></th>\n",
       "      <th></th>\n",
       "      <th></th>\n",
       "      <th></th>\n",
       "      <th></th>\n",
       "      <th></th>\n",
       "      <th></th>\n",
       "      <th></th>\n",
       "    </tr>\n",
       "  </thead>\n",
       "  <tbody>\n",
       "    <tr>\n",
       "      <th>Gordon Hayward</th>\n",
       "      <td>29727900</td>\n",
       "      <td>2017</td>\n",
       "      <td>2018</td>\n",
       "      <td>BOS</td>\n",
       "      <td>Boston Celtic</td>\n",
       "      <td>SF</td>\n",
       "      <td>26.00</td>\n",
       "      <td>Highest Paid</td>\n",
       "    </tr>\n",
       "    <tr>\n",
       "      <th>Al Horford</th>\n",
       "      <td>27734405</td>\n",
       "      <td>2017</td>\n",
       "      <td>2018</td>\n",
       "      <td>BOS</td>\n",
       "      <td>Boston Celtic</td>\n",
       "      <td>C</td>\n",
       "      <td>30.00</td>\n",
       "      <td>Highest Paid</td>\n",
       "    </tr>\n",
       "    <tr>\n",
       "      <th>Dwight Howard</th>\n",
       "      <td>23500000</td>\n",
       "      <td>2017</td>\n",
       "      <td>2018</td>\n",
       "      <td>CHA</td>\n",
       "      <td>Charlotte Hornets</td>\n",
       "      <td>C</td>\n",
       "      <td>31.00</td>\n",
       "      <td>Highest Paid</td>\n",
       "    </tr>\n",
       "    <tr>\n",
       "      <th>LeBron James</th>\n",
       "      <td>33285709</td>\n",
       "      <td>2017</td>\n",
       "      <td>2018</td>\n",
       "      <td>CLE</td>\n",
       "      <td>Cleveland Caveliers</td>\n",
       "      <td>SF</td>\n",
       "      <td>32.00</td>\n",
       "      <td>Highest Paid</td>\n",
       "    </tr>\n",
       "    <tr>\n",
       "      <th>Harrison Barnes</th>\n",
       "      <td>23112004</td>\n",
       "      <td>2017</td>\n",
       "      <td>2018</td>\n",
       "      <td>DAL</td>\n",
       "      <td>Dallas Mavericks</td>\n",
       "      <td>PF</td>\n",
       "      <td>24.00</td>\n",
       "      <td>Highest Paid</td>\n",
       "    </tr>\n",
       "    <tr>\n",
       "      <th>Paul Millsap</th>\n",
       "      <td>31269231</td>\n",
       "      <td>2017</td>\n",
       "      <td>2018</td>\n",
       "      <td>DEN</td>\n",
       "      <td>Denver Nuggets</td>\n",
       "      <td>PF</td>\n",
       "      <td>31.00</td>\n",
       "      <td>Highest Paid</td>\n",
       "    </tr>\n",
       "    <tr>\n",
       "      <th>Andre Drummond</th>\n",
       "      <td>23775506</td>\n",
       "      <td>2017</td>\n",
       "      <td>2018</td>\n",
       "      <td>DET</td>\n",
       "      <td>Detroit Pistons</td>\n",
       "      <td>C</td>\n",
       "      <td>23.00</td>\n",
       "      <td>Highest Paid</td>\n",
       "    </tr>\n",
       "    <tr>\n",
       "      <th>Stephen Curry</th>\n",
       "      <td>34682550</td>\n",
       "      <td>2017</td>\n",
       "      <td>2018</td>\n",
       "      <td>GSW</td>\n",
       "      <td>Golden State Warriors</td>\n",
       "      <td>PG</td>\n",
       "      <td>28.00</td>\n",
       "      <td>Highest Paid</td>\n",
       "    </tr>\n",
       "    <tr>\n",
       "      <th>Kevin Durant</th>\n",
       "      <td>25000000</td>\n",
       "      <td>2017</td>\n",
       "      <td>2018</td>\n",
       "      <td>GSW</td>\n",
       "      <td>Golden State Warriors</td>\n",
       "      <td>PF</td>\n",
       "      <td>28.00</td>\n",
       "      <td>Highest Paid</td>\n",
       "    </tr>\n",
       "    <tr>\n",
       "      <th>James Harden</th>\n",
       "      <td>28299399</td>\n",
       "      <td>2017</td>\n",
       "      <td>2018</td>\n",
       "      <td>HOU</td>\n",
       "      <td>Houston Rockets</td>\n",
       "      <td>PG</td>\n",
       "      <td>27.00</td>\n",
       "      <td>Highest Paid</td>\n",
       "    </tr>\n",
       "    <tr>\n",
       "      <th>Chris Paul</th>\n",
       "      <td>24599495</td>\n",
       "      <td>2017</td>\n",
       "      <td>2018</td>\n",
       "      <td>HOU</td>\n",
       "      <td>Houston Rockets</td>\n",
       "      <td>PG</td>\n",
       "      <td>31.00</td>\n",
       "      <td>Highest Paid</td>\n",
       "    </tr>\n",
       "    <tr>\n",
       "      <th>Blake Griffin</th>\n",
       "      <td>29512900</td>\n",
       "      <td>2017</td>\n",
       "      <td>2018</td>\n",
       "      <td>LAC</td>\n",
       "      <td>Los Angeles Clippers</td>\n",
       "      <td>PF</td>\n",
       "      <td>27.00</td>\n",
       "      <td>Highest Paid</td>\n",
       "    </tr>\n",
       "    <tr>\n",
       "      <th>Mike Conley</th>\n",
       "      <td>28530608</td>\n",
       "      <td>2017</td>\n",
       "      <td>2018</td>\n",
       "      <td>MEM</td>\n",
       "      <td>Memphis Grizzlies</td>\n",
       "      <td>PG</td>\n",
       "      <td>29.00</td>\n",
       "      <td>Highest Paid</td>\n",
       "    </tr>\n",
       "    <tr>\n",
       "      <th>Chandler Parsons</th>\n",
       "      <td>23112004</td>\n",
       "      <td>2017</td>\n",
       "      <td>2018</td>\n",
       "      <td>MEM</td>\n",
       "      <td>Memphis Grizzlies</td>\n",
       "      <td>SF</td>\n",
       "      <td>28.00</td>\n",
       "      <td>Highest Paid</td>\n",
       "    </tr>\n",
       "    <tr>\n",
       "      <th>Chris Bosh</th>\n",
       "      <td>25289390</td>\n",
       "      <td>2017</td>\n",
       "      <td>2018</td>\n",
       "      <td>MIA</td>\n",
       "      <td>Miami Heat</td>\n",
       "      <td>NaN</td>\n",
       "      <td>nan</td>\n",
       "      <td>Highest Paid</td>\n",
       "    </tr>\n",
       "    <tr>\n",
       "      <th>Hassan Whiteside</th>\n",
       "      <td>23775506</td>\n",
       "      <td>2017</td>\n",
       "      <td>2018</td>\n",
       "      <td>MIA</td>\n",
       "      <td>Miami Heat</td>\n",
       "      <td>C</td>\n",
       "      <td>27.00</td>\n",
       "      <td>Highest Paid</td>\n",
       "    </tr>\n",
       "    <tr>\n",
       "      <th>Jrue Holiday</th>\n",
       "      <td>25686667</td>\n",
       "      <td>2017</td>\n",
       "      <td>2018</td>\n",
       "      <td>NOH</td>\n",
       "      <td>New Orleans Pelicans</td>\n",
       "      <td>PG</td>\n",
       "      <td>26.00</td>\n",
       "      <td>Highest Paid</td>\n",
       "    </tr>\n",
       "    <tr>\n",
       "      <th>Anthony Davis</th>\n",
       "      <td>23775506</td>\n",
       "      <td>2017</td>\n",
       "      <td>2018</td>\n",
       "      <td>NOH</td>\n",
       "      <td>New Orleans Pelicans</td>\n",
       "      <td>C</td>\n",
       "      <td>23.00</td>\n",
       "      <td>Highest Paid</td>\n",
       "    </tr>\n",
       "    <tr>\n",
       "      <th>Russell Westbrook</th>\n",
       "      <td>28530608</td>\n",
       "      <td>2017</td>\n",
       "      <td>2018</td>\n",
       "      <td>OKC</td>\n",
       "      <td>Oklahoma City Thunder</td>\n",
       "      <td>PG</td>\n",
       "      <td>28.00</td>\n",
       "      <td>Highest Paid</td>\n",
       "    </tr>\n",
       "    <tr>\n",
       "      <th>Carmelo Anthony</th>\n",
       "      <td>26243760</td>\n",
       "      <td>2017</td>\n",
       "      <td>2018</td>\n",
       "      <td>OKC</td>\n",
       "      <td>Oklahoma City Thunder</td>\n",
       "      <td>SF</td>\n",
       "      <td>32.00</td>\n",
       "      <td>Highest Paid</td>\n",
       "    </tr>\n",
       "    <tr>\n",
       "      <th>J.J. Redick</th>\n",
       "      <td>23000000</td>\n",
       "      <td>2017</td>\n",
       "      <td>2018</td>\n",
       "      <td>PHI</td>\n",
       "      <td>Philadelphia 76ers</td>\n",
       "      <td>SG</td>\n",
       "      <td>32.00</td>\n",
       "      <td>Highest Paid</td>\n",
       "    </tr>\n",
       "    <tr>\n",
       "      <th>Damian Lillard</th>\n",
       "      <td>26153057</td>\n",
       "      <td>2017</td>\n",
       "      <td>2018</td>\n",
       "      <td>POR</td>\n",
       "      <td>Portland Trail Blazers</td>\n",
       "      <td>PG</td>\n",
       "      <td>26.00</td>\n",
       "      <td>Highest Paid</td>\n",
       "    </tr>\n",
       "    <tr>\n",
       "      <th>C.J. McCollum</th>\n",
       "      <td>23962573</td>\n",
       "      <td>2017</td>\n",
       "      <td>2018</td>\n",
       "      <td>POR</td>\n",
       "      <td>Portland Trail Blazers</td>\n",
       "      <td>SG</td>\n",
       "      <td>25.00</td>\n",
       "      <td>Highest Paid</td>\n",
       "    </tr>\n",
       "    <tr>\n",
       "      <th>Kyle Lowry</th>\n",
       "      <td>28703704</td>\n",
       "      <td>2017</td>\n",
       "      <td>2018</td>\n",
       "      <td>TOR</td>\n",
       "      <td>Toronto Raptors</td>\n",
       "      <td>PG</td>\n",
       "      <td>30.00</td>\n",
       "      <td>Highest Paid</td>\n",
       "    </tr>\n",
       "    <tr>\n",
       "      <th>DeMar DeRozan</th>\n",
       "      <td>27739975</td>\n",
       "      <td>2017</td>\n",
       "      <td>2018</td>\n",
       "      <td>TOR</td>\n",
       "      <td>Toronto Raptors</td>\n",
       "      <td>SG</td>\n",
       "      <td>27.00</td>\n",
       "      <td>Highest Paid</td>\n",
       "    </tr>\n",
       "    <tr>\n",
       "      <th>Otto Porter</th>\n",
       "      <td>24773250</td>\n",
       "      <td>2017</td>\n",
       "      <td>2018</td>\n",
       "      <td>WAS</td>\n",
       "      <td>Washington Wizards</td>\n",
       "      <td>SF</td>\n",
       "      <td>23.00</td>\n",
       "      <td>Highest Paid</td>\n",
       "    </tr>\n",
       "    <tr>\n",
       "      <th>Bradley Beal</th>\n",
       "      <td>23775506</td>\n",
       "      <td>2017</td>\n",
       "      <td>2018</td>\n",
       "      <td>WAS</td>\n",
       "      <td>Washington Wizards</td>\n",
       "      <td>SG</td>\n",
       "      <td>23.00</td>\n",
       "      <td>Highest Paid</td>\n",
       "    </tr>\n",
       "  </tbody>\n",
       "</table>\n",
       "</div>"
      ],
      "text/plain": [
       "                     salary  season_start  season_end team  \\\n",
       "player                                                       \n",
       "Gordon Hayward     29727900          2017        2018  BOS   \n",
       "Al Horford         27734405          2017        2018  BOS   \n",
       "Dwight Howard      23500000          2017        2018  CHA   \n",
       "LeBron James       33285709          2017        2018  CLE   \n",
       "Harrison Barnes    23112004          2017        2018  DAL   \n",
       "Paul Millsap       31269231          2017        2018  DEN   \n",
       "Andre Drummond     23775506          2017        2018  DET   \n",
       "Stephen Curry      34682550          2017        2018  GSW   \n",
       "Kevin Durant       25000000          2017        2018  GSW   \n",
       "James Harden       28299399          2017        2018  HOU   \n",
       "Chris Paul         24599495          2017        2018  HOU   \n",
       "Blake Griffin      29512900          2017        2018  LAC   \n",
       "Mike Conley        28530608          2017        2018  MEM   \n",
       "Chandler Parsons   23112004          2017        2018  MEM   \n",
       "Chris Bosh         25289390          2017        2018  MIA   \n",
       "Hassan Whiteside   23775506          2017        2018  MIA   \n",
       "Jrue Holiday       25686667          2017        2018  NOH   \n",
       "Anthony Davis      23775506          2017        2018  NOH   \n",
       "Russell Westbrook  28530608          2017        2018  OKC   \n",
       "Carmelo Anthony    26243760          2017        2018  OKC   \n",
       "J.J. Redick        23000000          2017        2018  PHI   \n",
       "Damian Lillard     26153057          2017        2018  POR   \n",
       "C.J. McCollum      23962573          2017        2018  POR   \n",
       "Kyle Lowry         28703704          2017        2018  TOR   \n",
       "DeMar DeRozan      27739975          2017        2018  TOR   \n",
       "Otto Porter        24773250          2017        2018  WAS   \n",
       "Bradley Beal       23775506          2017        2018  WAS   \n",
       "\n",
       "                                team_name  Pos   Age  Salary Range  \n",
       "player                                                              \n",
       "Gordon Hayward              Boston Celtic   SF 26.00  Highest Paid  \n",
       "Al Horford                  Boston Celtic    C 30.00  Highest Paid  \n",
       "Dwight Howard           Charlotte Hornets    C 31.00  Highest Paid  \n",
       "LeBron James          Cleveland Caveliers   SF 32.00  Highest Paid  \n",
       "Harrison Barnes          Dallas Mavericks   PF 24.00  Highest Paid  \n",
       "Paul Millsap               Denver Nuggets   PF 31.00  Highest Paid  \n",
       "Andre Drummond            Detroit Pistons    C 23.00  Highest Paid  \n",
       "Stephen Curry       Golden State Warriors   PG 28.00  Highest Paid  \n",
       "Kevin Durant        Golden State Warriors   PF 28.00  Highest Paid  \n",
       "James Harden              Houston Rockets   PG 27.00  Highest Paid  \n",
       "Chris Paul                Houston Rockets   PG 31.00  Highest Paid  \n",
       "Blake Griffin        Los Angeles Clippers   PF 27.00  Highest Paid  \n",
       "Mike Conley             Memphis Grizzlies   PG 29.00  Highest Paid  \n",
       "Chandler Parsons        Memphis Grizzlies   SF 28.00  Highest Paid  \n",
       "Chris Bosh                     Miami Heat  NaN   nan  Highest Paid  \n",
       "Hassan Whiteside               Miami Heat    C 27.00  Highest Paid  \n",
       "Jrue Holiday         New Orleans Pelicans   PG 26.00  Highest Paid  \n",
       "Anthony Davis        New Orleans Pelicans    C 23.00  Highest Paid  \n",
       "Russell Westbrook   Oklahoma City Thunder   PG 28.00  Highest Paid  \n",
       "Carmelo Anthony     Oklahoma City Thunder   SF 32.00  Highest Paid  \n",
       "J.J. Redick            Philadelphia 76ers   SG 32.00  Highest Paid  \n",
       "Damian Lillard     Portland Trail Blazers   PG 26.00  Highest Paid  \n",
       "C.J. McCollum      Portland Trail Blazers   SG 25.00  Highest Paid  \n",
       "Kyle Lowry               Toronto Raptors    PG 30.00  Highest Paid  \n",
       "DeMar DeRozan            Toronto Raptors    SG 27.00  Highest Paid  \n",
       "Otto Porter            Washington Wizards   SF 23.00  Highest Paid  \n",
       "Bradley Beal           Washington Wizards   SG 23.00  Highest Paid  "
      ]
     },
     "execution_count": 31,
     "metadata": {},
     "output_type": "execute_result"
    }
   ],
   "source": [
    "df[df['salary'] >= (q3 + 1.5 * iqr)]"
   ]
  },
  {
   "cell_type": "markdown",
   "metadata": {},
   "source": [
    "Or with our new category:"
   ]
  },
  {
   "cell_type": "code",
   "execution_count": 32,
   "metadata": {},
   "outputs": [
    {
     "data": {
      "text/html": [
       "<div>\n",
       "<style scoped>\n",
       "    .dataframe tbody tr th:only-of-type {\n",
       "        vertical-align: middle;\n",
       "    }\n",
       "\n",
       "    .dataframe tbody tr th {\n",
       "        vertical-align: top;\n",
       "    }\n",
       "\n",
       "    .dataframe thead th {\n",
       "        text-align: right;\n",
       "    }\n",
       "</style>\n",
       "<table border=\"1\" class=\"dataframe\">\n",
       "  <thead>\n",
       "    <tr style=\"text-align: right;\">\n",
       "      <th></th>\n",
       "      <th>salary</th>\n",
       "      <th>season_start</th>\n",
       "      <th>season_end</th>\n",
       "      <th>team</th>\n",
       "      <th>team_name</th>\n",
       "      <th>Pos</th>\n",
       "      <th>Age</th>\n",
       "      <th>Salary Range</th>\n",
       "    </tr>\n",
       "    <tr>\n",
       "      <th>player</th>\n",
       "      <th></th>\n",
       "      <th></th>\n",
       "      <th></th>\n",
       "      <th></th>\n",
       "      <th></th>\n",
       "      <th></th>\n",
       "      <th></th>\n",
       "      <th></th>\n",
       "    </tr>\n",
       "  </thead>\n",
       "  <tbody>\n",
       "    <tr>\n",
       "      <th>Gordon Hayward</th>\n",
       "      <td>29727900</td>\n",
       "      <td>2017</td>\n",
       "      <td>2018</td>\n",
       "      <td>BOS</td>\n",
       "      <td>Boston Celtic</td>\n",
       "      <td>SF</td>\n",
       "      <td>26.00</td>\n",
       "      <td>Highest Paid</td>\n",
       "    </tr>\n",
       "    <tr>\n",
       "      <th>Al Horford</th>\n",
       "      <td>27734405</td>\n",
       "      <td>2017</td>\n",
       "      <td>2018</td>\n",
       "      <td>BOS</td>\n",
       "      <td>Boston Celtic</td>\n",
       "      <td>C</td>\n",
       "      <td>30.00</td>\n",
       "      <td>Highest Paid</td>\n",
       "    </tr>\n",
       "    <tr>\n",
       "      <th>Dwight Howard</th>\n",
       "      <td>23500000</td>\n",
       "      <td>2017</td>\n",
       "      <td>2018</td>\n",
       "      <td>CHA</td>\n",
       "      <td>Charlotte Hornets</td>\n",
       "      <td>C</td>\n",
       "      <td>31.00</td>\n",
       "      <td>Highest Paid</td>\n",
       "    </tr>\n",
       "    <tr>\n",
       "      <th>LeBron James</th>\n",
       "      <td>33285709</td>\n",
       "      <td>2017</td>\n",
       "      <td>2018</td>\n",
       "      <td>CLE</td>\n",
       "      <td>Cleveland Caveliers</td>\n",
       "      <td>SF</td>\n",
       "      <td>32.00</td>\n",
       "      <td>Highest Paid</td>\n",
       "    </tr>\n",
       "    <tr>\n",
       "      <th>Harrison Barnes</th>\n",
       "      <td>23112004</td>\n",
       "      <td>2017</td>\n",
       "      <td>2018</td>\n",
       "      <td>DAL</td>\n",
       "      <td>Dallas Mavericks</td>\n",
       "      <td>PF</td>\n",
       "      <td>24.00</td>\n",
       "      <td>Highest Paid</td>\n",
       "    </tr>\n",
       "    <tr>\n",
       "      <th>Paul Millsap</th>\n",
       "      <td>31269231</td>\n",
       "      <td>2017</td>\n",
       "      <td>2018</td>\n",
       "      <td>DEN</td>\n",
       "      <td>Denver Nuggets</td>\n",
       "      <td>PF</td>\n",
       "      <td>31.00</td>\n",
       "      <td>Highest Paid</td>\n",
       "    </tr>\n",
       "    <tr>\n",
       "      <th>Andre Drummond</th>\n",
       "      <td>23775506</td>\n",
       "      <td>2017</td>\n",
       "      <td>2018</td>\n",
       "      <td>DET</td>\n",
       "      <td>Detroit Pistons</td>\n",
       "      <td>C</td>\n",
       "      <td>23.00</td>\n",
       "      <td>Highest Paid</td>\n",
       "    </tr>\n",
       "    <tr>\n",
       "      <th>Stephen Curry</th>\n",
       "      <td>34682550</td>\n",
       "      <td>2017</td>\n",
       "      <td>2018</td>\n",
       "      <td>GSW</td>\n",
       "      <td>Golden State Warriors</td>\n",
       "      <td>PG</td>\n",
       "      <td>28.00</td>\n",
       "      <td>Highest Paid</td>\n",
       "    </tr>\n",
       "    <tr>\n",
       "      <th>Kevin Durant</th>\n",
       "      <td>25000000</td>\n",
       "      <td>2017</td>\n",
       "      <td>2018</td>\n",
       "      <td>GSW</td>\n",
       "      <td>Golden State Warriors</td>\n",
       "      <td>PF</td>\n",
       "      <td>28.00</td>\n",
       "      <td>Highest Paid</td>\n",
       "    </tr>\n",
       "    <tr>\n",
       "      <th>James Harden</th>\n",
       "      <td>28299399</td>\n",
       "      <td>2017</td>\n",
       "      <td>2018</td>\n",
       "      <td>HOU</td>\n",
       "      <td>Houston Rockets</td>\n",
       "      <td>PG</td>\n",
       "      <td>27.00</td>\n",
       "      <td>Highest Paid</td>\n",
       "    </tr>\n",
       "    <tr>\n",
       "      <th>Chris Paul</th>\n",
       "      <td>24599495</td>\n",
       "      <td>2017</td>\n",
       "      <td>2018</td>\n",
       "      <td>HOU</td>\n",
       "      <td>Houston Rockets</td>\n",
       "      <td>PG</td>\n",
       "      <td>31.00</td>\n",
       "      <td>Highest Paid</td>\n",
       "    </tr>\n",
       "    <tr>\n",
       "      <th>Blake Griffin</th>\n",
       "      <td>29512900</td>\n",
       "      <td>2017</td>\n",
       "      <td>2018</td>\n",
       "      <td>LAC</td>\n",
       "      <td>Los Angeles Clippers</td>\n",
       "      <td>PF</td>\n",
       "      <td>27.00</td>\n",
       "      <td>Highest Paid</td>\n",
       "    </tr>\n",
       "    <tr>\n",
       "      <th>Mike Conley</th>\n",
       "      <td>28530608</td>\n",
       "      <td>2017</td>\n",
       "      <td>2018</td>\n",
       "      <td>MEM</td>\n",
       "      <td>Memphis Grizzlies</td>\n",
       "      <td>PG</td>\n",
       "      <td>29.00</td>\n",
       "      <td>Highest Paid</td>\n",
       "    </tr>\n",
       "    <tr>\n",
       "      <th>Chandler Parsons</th>\n",
       "      <td>23112004</td>\n",
       "      <td>2017</td>\n",
       "      <td>2018</td>\n",
       "      <td>MEM</td>\n",
       "      <td>Memphis Grizzlies</td>\n",
       "      <td>SF</td>\n",
       "      <td>28.00</td>\n",
       "      <td>Highest Paid</td>\n",
       "    </tr>\n",
       "    <tr>\n",
       "      <th>Chris Bosh</th>\n",
       "      <td>25289390</td>\n",
       "      <td>2017</td>\n",
       "      <td>2018</td>\n",
       "      <td>MIA</td>\n",
       "      <td>Miami Heat</td>\n",
       "      <td>NaN</td>\n",
       "      <td>nan</td>\n",
       "      <td>Highest Paid</td>\n",
       "    </tr>\n",
       "    <tr>\n",
       "      <th>Hassan Whiteside</th>\n",
       "      <td>23775506</td>\n",
       "      <td>2017</td>\n",
       "      <td>2018</td>\n",
       "      <td>MIA</td>\n",
       "      <td>Miami Heat</td>\n",
       "      <td>C</td>\n",
       "      <td>27.00</td>\n",
       "      <td>Highest Paid</td>\n",
       "    </tr>\n",
       "    <tr>\n",
       "      <th>Jrue Holiday</th>\n",
       "      <td>25686667</td>\n",
       "      <td>2017</td>\n",
       "      <td>2018</td>\n",
       "      <td>NOH</td>\n",
       "      <td>New Orleans Pelicans</td>\n",
       "      <td>PG</td>\n",
       "      <td>26.00</td>\n",
       "      <td>Highest Paid</td>\n",
       "    </tr>\n",
       "    <tr>\n",
       "      <th>Anthony Davis</th>\n",
       "      <td>23775506</td>\n",
       "      <td>2017</td>\n",
       "      <td>2018</td>\n",
       "      <td>NOH</td>\n",
       "      <td>New Orleans Pelicans</td>\n",
       "      <td>C</td>\n",
       "      <td>23.00</td>\n",
       "      <td>Highest Paid</td>\n",
       "    </tr>\n",
       "    <tr>\n",
       "      <th>Russell Westbrook</th>\n",
       "      <td>28530608</td>\n",
       "      <td>2017</td>\n",
       "      <td>2018</td>\n",
       "      <td>OKC</td>\n",
       "      <td>Oklahoma City Thunder</td>\n",
       "      <td>PG</td>\n",
       "      <td>28.00</td>\n",
       "      <td>Highest Paid</td>\n",
       "    </tr>\n",
       "    <tr>\n",
       "      <th>Carmelo Anthony</th>\n",
       "      <td>26243760</td>\n",
       "      <td>2017</td>\n",
       "      <td>2018</td>\n",
       "      <td>OKC</td>\n",
       "      <td>Oklahoma City Thunder</td>\n",
       "      <td>SF</td>\n",
       "      <td>32.00</td>\n",
       "      <td>Highest Paid</td>\n",
       "    </tr>\n",
       "    <tr>\n",
       "      <th>J.J. Redick</th>\n",
       "      <td>23000000</td>\n",
       "      <td>2017</td>\n",
       "      <td>2018</td>\n",
       "      <td>PHI</td>\n",
       "      <td>Philadelphia 76ers</td>\n",
       "      <td>SG</td>\n",
       "      <td>32.00</td>\n",
       "      <td>Highest Paid</td>\n",
       "    </tr>\n",
       "    <tr>\n",
       "      <th>Damian Lillard</th>\n",
       "      <td>26153057</td>\n",
       "      <td>2017</td>\n",
       "      <td>2018</td>\n",
       "      <td>POR</td>\n",
       "      <td>Portland Trail Blazers</td>\n",
       "      <td>PG</td>\n",
       "      <td>26.00</td>\n",
       "      <td>Highest Paid</td>\n",
       "    </tr>\n",
       "    <tr>\n",
       "      <th>C.J. McCollum</th>\n",
       "      <td>23962573</td>\n",
       "      <td>2017</td>\n",
       "      <td>2018</td>\n",
       "      <td>POR</td>\n",
       "      <td>Portland Trail Blazers</td>\n",
       "      <td>SG</td>\n",
       "      <td>25.00</td>\n",
       "      <td>Highest Paid</td>\n",
       "    </tr>\n",
       "    <tr>\n",
       "      <th>Kyle Lowry</th>\n",
       "      <td>28703704</td>\n",
       "      <td>2017</td>\n",
       "      <td>2018</td>\n",
       "      <td>TOR</td>\n",
       "      <td>Toronto Raptors</td>\n",
       "      <td>PG</td>\n",
       "      <td>30.00</td>\n",
       "      <td>Highest Paid</td>\n",
       "    </tr>\n",
       "    <tr>\n",
       "      <th>DeMar DeRozan</th>\n",
       "      <td>27739975</td>\n",
       "      <td>2017</td>\n",
       "      <td>2018</td>\n",
       "      <td>TOR</td>\n",
       "      <td>Toronto Raptors</td>\n",
       "      <td>SG</td>\n",
       "      <td>27.00</td>\n",
       "      <td>Highest Paid</td>\n",
       "    </tr>\n",
       "    <tr>\n",
       "      <th>Otto Porter</th>\n",
       "      <td>24773250</td>\n",
       "      <td>2017</td>\n",
       "      <td>2018</td>\n",
       "      <td>WAS</td>\n",
       "      <td>Washington Wizards</td>\n",
       "      <td>SF</td>\n",
       "      <td>23.00</td>\n",
       "      <td>Highest Paid</td>\n",
       "    </tr>\n",
       "    <tr>\n",
       "      <th>Bradley Beal</th>\n",
       "      <td>23775506</td>\n",
       "      <td>2017</td>\n",
       "      <td>2018</td>\n",
       "      <td>WAS</td>\n",
       "      <td>Washington Wizards</td>\n",
       "      <td>SG</td>\n",
       "      <td>23.00</td>\n",
       "      <td>Highest Paid</td>\n",
       "    </tr>\n",
       "  </tbody>\n",
       "</table>\n",
       "</div>"
      ],
      "text/plain": [
       "                     salary  season_start  season_end team  \\\n",
       "player                                                       \n",
       "Gordon Hayward     29727900          2017        2018  BOS   \n",
       "Al Horford         27734405          2017        2018  BOS   \n",
       "Dwight Howard      23500000          2017        2018  CHA   \n",
       "LeBron James       33285709          2017        2018  CLE   \n",
       "Harrison Barnes    23112004          2017        2018  DAL   \n",
       "Paul Millsap       31269231          2017        2018  DEN   \n",
       "Andre Drummond     23775506          2017        2018  DET   \n",
       "Stephen Curry      34682550          2017        2018  GSW   \n",
       "Kevin Durant       25000000          2017        2018  GSW   \n",
       "James Harden       28299399          2017        2018  HOU   \n",
       "Chris Paul         24599495          2017        2018  HOU   \n",
       "Blake Griffin      29512900          2017        2018  LAC   \n",
       "Mike Conley        28530608          2017        2018  MEM   \n",
       "Chandler Parsons   23112004          2017        2018  MEM   \n",
       "Chris Bosh         25289390          2017        2018  MIA   \n",
       "Hassan Whiteside   23775506          2017        2018  MIA   \n",
       "Jrue Holiday       25686667          2017        2018  NOH   \n",
       "Anthony Davis      23775506          2017        2018  NOH   \n",
       "Russell Westbrook  28530608          2017        2018  OKC   \n",
       "Carmelo Anthony    26243760          2017        2018  OKC   \n",
       "J.J. Redick        23000000          2017        2018  PHI   \n",
       "Damian Lillard     26153057          2017        2018  POR   \n",
       "C.J. McCollum      23962573          2017        2018  POR   \n",
       "Kyle Lowry         28703704          2017        2018  TOR   \n",
       "DeMar DeRozan      27739975          2017        2018  TOR   \n",
       "Otto Porter        24773250          2017        2018  WAS   \n",
       "Bradley Beal       23775506          2017        2018  WAS   \n",
       "\n",
       "                                team_name  Pos   Age  Salary Range  \n",
       "player                                                              \n",
       "Gordon Hayward              Boston Celtic   SF 26.00  Highest Paid  \n",
       "Al Horford                  Boston Celtic    C 30.00  Highest Paid  \n",
       "Dwight Howard           Charlotte Hornets    C 31.00  Highest Paid  \n",
       "LeBron James          Cleveland Caveliers   SF 32.00  Highest Paid  \n",
       "Harrison Barnes          Dallas Mavericks   PF 24.00  Highest Paid  \n",
       "Paul Millsap               Denver Nuggets   PF 31.00  Highest Paid  \n",
       "Andre Drummond            Detroit Pistons    C 23.00  Highest Paid  \n",
       "Stephen Curry       Golden State Warriors   PG 28.00  Highest Paid  \n",
       "Kevin Durant        Golden State Warriors   PF 28.00  Highest Paid  \n",
       "James Harden              Houston Rockets   PG 27.00  Highest Paid  \n",
       "Chris Paul                Houston Rockets   PG 31.00  Highest Paid  \n",
       "Blake Griffin        Los Angeles Clippers   PF 27.00  Highest Paid  \n",
       "Mike Conley             Memphis Grizzlies   PG 29.00  Highest Paid  \n",
       "Chandler Parsons        Memphis Grizzlies   SF 28.00  Highest Paid  \n",
       "Chris Bosh                     Miami Heat  NaN   nan  Highest Paid  \n",
       "Hassan Whiteside               Miami Heat    C 27.00  Highest Paid  \n",
       "Jrue Holiday         New Orleans Pelicans   PG 26.00  Highest Paid  \n",
       "Anthony Davis        New Orleans Pelicans    C 23.00  Highest Paid  \n",
       "Russell Westbrook   Oklahoma City Thunder   PG 28.00  Highest Paid  \n",
       "Carmelo Anthony     Oklahoma City Thunder   SF 32.00  Highest Paid  \n",
       "J.J. Redick            Philadelphia 76ers   SG 32.00  Highest Paid  \n",
       "Damian Lillard     Portland Trail Blazers   PG 26.00  Highest Paid  \n",
       "C.J. McCollum      Portland Trail Blazers   SG 25.00  Highest Paid  \n",
       "Kyle Lowry               Toronto Raptors    PG 30.00  Highest Paid  \n",
       "DeMar DeRozan            Toronto Raptors    SG 27.00  Highest Paid  \n",
       "Otto Porter            Washington Wizards   SF 23.00  Highest Paid  \n",
       "Bradley Beal           Washington Wizards   SG 23.00  Highest Paid  "
      ]
     },
     "execution_count": 32,
     "metadata": {},
     "output_type": "execute_result"
    }
   ],
   "source": [
    "df[df['Salary Range'] == 'Highest Paid']"
   ]
  },
  {
   "cell_type": "markdown",
   "metadata": {},
   "source": [
    "Now that we have categories, we can use a `countplot` to quickly visualize the distribution of the divisions we made:"
   ]
  },
  {
   "cell_type": "code",
   "execution_count": 33,
   "metadata": {
    "scrolled": false
   },
   "outputs": [
    {
     "data": {
      "image/png": "[encoded data removed]",
      "text/plain": [
       "<Figure size 864x432 with 1 Axes>"
      ]
     },
     "metadata": {},
     "output_type": "display_data"
    }
   ],
   "source": [
    "fig, ax = plt.subplots(figsize=(12, 6))\n",
    "\n",
    "sns.countplot('Salary Range', data=df, ax=ax, palette=\"Set3\")\n",
    "\n",
    "fig.tight_layout()"
   ]
  },
  {
   "cell_type": "markdown",
   "metadata": {},
   "source": [
    "We can decide to use the team as a category, and the Salary Range as hue:"
   ]
  },
  {
   "cell_type": "code",
   "execution_count": 34,
   "metadata": {},
   "outputs": [
    {
     "data": {
      "image/png": "[encoded data removed]",
      "text/plain": [
       "<Figure size 864x432 with 1 Axes>"
      ]
     },
     "metadata": {},
     "output_type": "display_data"
    }
   ],
   "source": [
    "fig, ax = plt.subplots(figsize=(12, 6))\n",
    "\n",
    "sns.countplot('team', hue='Salary Range', data=df, ax=ax, palette=\"Set3\")\n",
    "\n",
    "fig.tight_layout()"
   ]
  },
  {
   "cell_type": "markdown",
   "metadata": {},
   "source": [
    "Quickly screening the plot makes us realize that most teams have similar number of \"Highest paid players\". A few of them (like LAL, MIL or NJN) don't have a a single \"High paid\" player. To make sure, we could visualize highest plaid players per team:"
   ]
  },
  {
   "cell_type": "code",
   "execution_count": 35,
   "metadata": {},
   "outputs": [],
   "source": [
    "highest_paid_players = df[df['Salary Range'] == 'Highest Paid']"
   ]
  },
  {
   "cell_type": "code",
   "execution_count": 36,
   "metadata": {},
   "outputs": [
    {
     "data": {
      "image/png": "[encoded data removed]",
      "text/plain": [
       "<Figure size 1296x432 with 1 Axes>"
      ]
     },
     "metadata": {},
     "output_type": "display_data"
    }
   ],
   "source": [
    "fig, ax = plt.subplots(figsize=(18, 6))\n",
    "\n",
    "sns.countplot('team', data=highest_paid_players, ax=ax, palette=\"Set3\")\n",
    "\n",
    "fig.tight_layout()"
   ]
  },
  {
   "cell_type": "markdown",
   "metadata": {},
   "source": [
    "Which seems to confirm our previous idea. In our second plot we only see those teams that have at least 1 high paid player. The rest are missing. How could we plot all teams? We need to wait until next class when we talk about group and apply 😁."
   ]
  },
  {
   "cell_type": "markdown",
   "metadata": {},
   "source": [
    "We can now, at least see how many teams don't have a high paid player. We have 30 teams in total:"
   ]
  },
  {
   "cell_type": "code",
   "execution_count": 37,
   "metadata": {
    "scrolled": false
   },
   "outputs": [
    {
     "data": {
      "text/plain": [
       "array(['ATL', 'BOS', 'CHA', 'CHI', 'CLE', 'DAL', 'DEN', 'DET', 'GSW',\n",
       "       'HOU', 'IND', 'LAC', 'LAL', 'MEM', 'MIA', 'MIL', 'MIN', 'NJN',\n",
       "       'NOH', 'NYK', 'OKC', 'ORL', 'PHI', 'PHO', 'POR', 'SAC', 'SAS',\n",
       "       'TOR', 'UTA', 'WAS'], dtype=object)"
      ]
     },
     "execution_count": 37,
     "metadata": {},
     "output_type": "execute_result"
    }
   ],
   "source": [
    "df['team'].unique()"
   ]
  },
  {
   "cell_type": "code",
   "execution_count": 38,
   "metadata": {
    "scrolled": true
   },
   "outputs": [
    {
     "data": {
      "text/plain": [
       "30"
      ]
     },
     "execution_count": 38,
     "metadata": {},
     "output_type": "execute_result"
    }
   ],
   "source": [
    "len(df['team'].unique())"
   ]
  },
  {
   "cell_type": "markdown",
   "metadata": {},
   "source": [
    "But our `highest_paid_players` DataFrame has only 17:"
   ]
  },
  {
   "cell_type": "code",
   "execution_count": 39,
   "metadata": {
    "scrolled": true
   },
   "outputs": [
    {
     "data": {
      "text/plain": [
       "array(['BOS', 'CHA', 'CLE', 'DAL', 'DEN', 'DET', 'GSW', 'HOU', 'LAC',\n",
       "       'MEM', 'MIA', 'NOH', 'OKC', 'PHI', 'POR', 'TOR', 'WAS'],\n",
       "      dtype=object)"
      ]
     },
     "execution_count": 39,
     "metadata": {},
     "output_type": "execute_result"
    }
   ],
   "source": [
    "highest_paid_players['team'].unique()"
   ]
  },
  {
   "cell_type": "code",
   "execution_count": 40,
   "metadata": {
    "scrolled": false
   },
   "outputs": [
    {
     "data": {
      "text/plain": [
       "17"
      ]
     },
     "execution_count": 40,
     "metadata": {},
     "output_type": "execute_result"
    }
   ],
   "source": [
    "len(highest_paid_players['team'].unique())"
   ]
  },
  {
   "cell_type": "code",
   "execution_count": 41,
   "metadata": {},
   "outputs": [
    {
     "data": {
      "image/png": "[encoded data removed]",
      "text/plain": [
       "<Figure size 1296x432 with 1 Axes>"
      ]
     },
     "metadata": {},
     "output_type": "display_data"
    }
   ],
   "source": [
    "fig, ax = plt.subplots(figsize=(18, 6))\n",
    "\n",
    "sns.countplot('team', hue='Pos', data=df, ax=ax, palette=\"Set3\")\n",
    "\n",
    "fig.tight_layout()"
   ]
  },
  {
   "cell_type": "markdown",
   "metadata": {},
   "source": [
    "We could also make our analysis by position. The question would be: Which positions have the highest paid players?"
   ]
  },
  {
   "cell_type": "code",
   "execution_count": 42,
   "metadata": {},
   "outputs": [
    {
     "data": {
      "image/png": "[encoded data removed]",
      "text/plain": [
       "<Figure size 1296x432 with 1 Axes>"
      ]
     },
     "metadata": {},
     "output_type": "display_data"
    }
   ],
   "source": [
    "fig, ax = plt.subplots(figsize=(18, 6))\n",
    "\n",
    "sns.countplot(x='Pos', hue='Salary Range', data=df, ax=ax, palette=\"Set3\")\n",
    "\n",
    "fig.tight_layout()"
   ]
  },
  {
   "cell_type": "code",
   "execution_count": 43,
   "metadata": {},
   "outputs": [
    {
     "data": {
      "text/html": [
       "<div>\n",
       "<style scoped>\n",
       "    .dataframe tbody tr th:only-of-type {\n",
       "        vertical-align: middle;\n",
       "    }\n",
       "\n",
       "    .dataframe tbody tr th {\n",
       "        vertical-align: top;\n",
       "    }\n",
       "\n",
       "    .dataframe thead th {\n",
       "        text-align: right;\n",
       "    }\n",
       "</style>\n",
       "<table border=\"1\" class=\"dataframe\">\n",
       "  <thead>\n",
       "    <tr style=\"text-align: right;\">\n",
       "      <th></th>\n",
       "      <th>salary</th>\n",
       "      <th>season_start</th>\n",
       "      <th>season_end</th>\n",
       "      <th>team</th>\n",
       "      <th>team_name</th>\n",
       "      <th>Pos</th>\n",
       "      <th>Age</th>\n",
       "      <th>Salary Range</th>\n",
       "    </tr>\n",
       "    <tr>\n",
       "      <th>player</th>\n",
       "      <th></th>\n",
       "      <th></th>\n",
       "      <th></th>\n",
       "      <th></th>\n",
       "      <th></th>\n",
       "      <th></th>\n",
       "      <th></th>\n",
       "      <th></th>\n",
       "    </tr>\n",
       "  </thead>\n",
       "  <tbody>\n",
       "    <tr>\n",
       "      <th>Kent Bazemore</th>\n",
       "      <td>16910113</td>\n",
       "      <td>2017</td>\n",
       "      <td>2018</td>\n",
       "      <td>ATL</td>\n",
       "      <td>Atlanta Hawks</td>\n",
       "      <td>SF</td>\n",
       "      <td>27.00</td>\n",
       "      <td>Middle Range</td>\n",
       "    </tr>\n",
       "    <tr>\n",
       "      <th>Dennis Schroder</th>\n",
       "      <td>15500000</td>\n",
       "      <td>2017</td>\n",
       "      <td>2018</td>\n",
       "      <td>ATL</td>\n",
       "      <td>Atlanta Hawks</td>\n",
       "      <td>PG</td>\n",
       "      <td>23.00</td>\n",
       "      <td>Middle Range</td>\n",
       "    </tr>\n",
       "    <tr>\n",
       "      <th>Miles Plumlee</th>\n",
       "      <td>12500000</td>\n",
       "      <td>2017</td>\n",
       "      <td>2018</td>\n",
       "      <td>ATL</td>\n",
       "      <td>Atlanta Hawks</td>\n",
       "      <td>C</td>\n",
       "      <td>28.00</td>\n",
       "      <td>Middle Range</td>\n",
       "    </tr>\n",
       "    <tr>\n",
       "      <th>Jamal Crawford</th>\n",
       "      <td>10942762</td>\n",
       "      <td>2017</td>\n",
       "      <td>2018</td>\n",
       "      <td>ATL</td>\n",
       "      <td>Atlanta Hawks</td>\n",
       "      <td>SG</td>\n",
       "      <td>36.00</td>\n",
       "      <td>Middle Range</td>\n",
       "    </tr>\n",
       "    <tr>\n",
       "      <th>Marco Belinelli</th>\n",
       "      <td>6606060</td>\n",
       "      <td>2017</td>\n",
       "      <td>2018</td>\n",
       "      <td>ATL</td>\n",
       "      <td>Atlanta Hawks</td>\n",
       "      <td>SG</td>\n",
       "      <td>30.00</td>\n",
       "      <td>Middle Range</td>\n",
       "    </tr>\n",
       "  </tbody>\n",
       "</table>\n",
       "</div>"
      ],
      "text/plain": [
       "                   salary  season_start  season_end team      team_name Pos  \\\n",
       "player                                                                        \n",
       "Kent Bazemore    16910113          2017        2018  ATL  Atlanta Hawks  SF   \n",
       "Dennis Schroder  15500000          2017        2018  ATL  Atlanta Hawks  PG   \n",
       "Miles Plumlee    12500000          2017        2018  ATL  Atlanta Hawks   C   \n",
       "Jamal Crawford   10942762          2017        2018  ATL  Atlanta Hawks  SG   \n",
       "Marco Belinelli   6606060          2017        2018  ATL  Atlanta Hawks  SG   \n",
       "\n",
       "                  Age  Salary Range  \n",
       "player                               \n",
       "Kent Bazemore   27.00  Middle Range  \n",
       "Dennis Schroder 23.00  Middle Range  \n",
       "Miles Plumlee   28.00  Middle Range  \n",
       "Jamal Crawford  36.00  Middle Range  \n",
       "Marco Belinelli 30.00  Middle Range  "
      ]
     },
     "execution_count": 43,
     "metadata": {},
     "output_type": "execute_result"
    }
   ],
   "source": [
    "df.head()"
   ]
  },
  {
   "cell_type": "markdown",
   "metadata": {},
   "source": [
    "![separator1](https://i.imgur.com/ZUWYTii.png)\n",
    "\n",
    "### Scatter plots"
   ]
  },
  {
   "cell_type": "markdown",
   "metadata": {},
   "source": [
    "How is Age related to salary? Is there any relationship at all? The easiest way to visualize a relationship between two variables is with a Scatter plot:"
   ]
  },
  {
   "cell_type": "code",
   "execution_count": 44,
   "metadata": {
    "scrolled": true
   },
   "outputs": [
    {
     "data": {
      "image/png": "[encoded data removed]",
      "text/plain": [
       "<Figure size 1296x432 with 1 Axes>"
      ]
     },
     "metadata": {},
     "output_type": "display_data"
    }
   ],
   "source": [
    "fig, ax = plt.subplots(figsize=(18, 6))\n",
    "\n",
    "sns.regplot(x='Age', y='salary', data=df, ax=ax)\n",
    "\n",
    "fig.tight_layout()"
   ]
  },
  {
   "cell_type": "markdown",
   "metadata": {},
   "source": [
    "If you have numbers that are too large, sometimes it's easier visualize it with a logarithmic scale:"
   ]
  },
  {
   "cell_type": "code",
   "execution_count": 45,
   "metadata": {
    "scrolled": true
   },
   "outputs": [
    {
     "data": {
      "image/png": "[encoded data removed]",
      "text/plain": [
       "<Figure size 1296x432 with 1 Axes>"
      ]
     },
     "metadata": {},
     "output_type": "display_data"
    }
   ],
   "source": [
    "fig, ax = plt.subplots(figsize=(18, 6))\n",
    "\n",
    "sns.regplot(x='Age', y='salary', data=df, ax=ax)\n",
    "ax.set_yscale('log')\n",
    "fig.tight_layout()"
   ]
  },
  {
   "cell_type": "markdown",
   "metadata": {},
   "source": [
    "We can also use a simple Bar plot to showcase the different Positions and Salaries. In this case, we're using the sum of the salaries by position:"
   ]
  },
  {
   "cell_type": "code",
   "execution_count": 46,
   "metadata": {
    "scrolled": false
   },
   "outputs": [
    {
     "data": {
      "image/png": "[encoded data removed]",
      "text/plain": [
       "<Figure size 1296x432 with 1 Axes>"
      ]
     },
     "metadata": {},
     "output_type": "display_data"
    },
    {
     "data": {
      "image/png": "[encoded data removed]",
      "text/plain": [
       "<Figure size 288x288 with 1 Axes>"
      ]
     },
     "metadata": {},
     "output_type": "display_data"
    }
   ],
   "source": [
    "fig, ax = plt.subplots(figsize=(18, 6))\n",
    "\n",
    "sns.factorplot(x='Pos', y='salary', data=df, ax=ax, palette=\"Set3\", kind='bar', estimator=np.sum)\n",
    "\n",
    "fig.tight_layout()"
   ]
  },
  {
   "cell_type": "markdown",
   "metadata": {},
   "source": [
    "`PF-C` has way less players, so we can also use the log scale to visualize it a little bit better."
   ]
  },
  {
   "cell_type": "code",
   "execution_count": 47,
   "metadata": {
    "scrolled": false
   },
   "outputs": [
    {
     "data": {
      "image/png": "[encoded data removed]",
      "text/plain": [
       "<Figure size 1296x432 with 1 Axes>"
      ]
     },
     "metadata": {},
     "output_type": "display_data"
    },
    {
     "data": {
      "image/png": "[encoded data removed]",
      "text/plain": [
       "<Figure size 288x288 with 1 Axes>"
      ]
     },
     "metadata": {},
     "output_type": "display_data"
    }
   ],
   "source": [
    "fig, ax = plt.subplots(figsize=(18, 6))\n",
    "\n",
    "sns.factorplot(x='Pos', y='salary', data=df, ax=ax, palette=\"Set3\", kind='bar', estimator=np.sum)\n",
    "ax.set_yscale('log')\n",
    "fig.tight_layout()"
   ]
  },
  {
   "cell_type": "markdown",
   "metadata": {},
   "source": [
    "But don't abuse the log scale. Our biggest problem in this case might be just Data Cleaning. We haven't normalized `PF-C` to any discrete position (either `PF` or `C`).\n",
    "\n",
    "Another useful method to visualize these relationships is with a [pointplot](https://seaborn.pydata.org/generated/seaborn.pointplot.html#seaborn.pointplot):"
   ]
  },
  {
   "cell_type": "code",
   "execution_count": 48,
   "metadata": {
    "scrolled": true
   },
   "outputs": [
    {
     "data": {
      "image/png": "[encoded data removed]",
      "text/plain": [
       "<Figure size 1296x432 with 1 Axes>"
      ]
     },
     "metadata": {},
     "output_type": "display_data"
    },
    {
     "data": {
      "image/png": "[encoded data removed]",
      "text/plain": [
       "<Figure size 288x288 with 1 Axes>"
      ]
     },
     "metadata": {},
     "output_type": "display_data"
    }
   ],
   "source": [
    "fig, ax = plt.subplots(figsize=(18, 6))\n",
    "\n",
    "sns.factorplot(x='Pos', y='salary', data=df, ax=ax, palette=\"Set3\", kind='point')\n",
    "\n",
    "fig.tight_layout()"
   ]
  },
  {
   "cell_type": "markdown",
   "metadata": {},
   "source": [
    "Can you think about other relationships? Other questions to ask about salaries?"
   ]
  },
  {
   "cell_type": "markdown",
   "metadata": {},
   "source": [
    "![separator2](https://i.imgur.com/4gX5WFr.png)"
   ]
  }
 ],
 "metadata": {
  "kernelspec": {
   "display_name": "Python 3",
   "language": "python",
   "name": "python3"
  },
  "language_info": {
   "codemirror_mode": {
    "name": "ipython",
    "version": 3
   },
   "file_extension": ".py",
   "mimetype": "text/x-python",
   "name": "python",
   "nbconvert_exporter": "python",
   "pygments_lexer": "ipython3",
   "version": "3.6.8"
  }
 },
 "nbformat": 4,
 "nbformat_minor": 2
}
